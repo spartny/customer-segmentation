{
 "cells": [
  {
   "cell_type": "markdown",
   "metadata": {},
   "source": [
    "# DBSCAN method of clustering for Online Retail Dataset"
   ]
  },
  {
   "cell_type": "markdown",
   "metadata": {},
   "source": [
    "DBSCAN (Density-Based Spatial Clustering of Applications with Noise) is a popular unsupervised clustering algorithm. It groups points that are closely packed together while marking points that are in low-density regions as outliers. \n",
    "\n",
    "There are 2 main parameters that the algorithm requires to perform clustering:\n",
    "1.\tEpsilon (ε): The maximum distance between two points for them to be considered as neighbors.\n",
    "2.\tMinPts: The minimum number of points required to form a dense region (a cluster).\n",
    "\n",
    "\n",
    "Advantages\n",
    "-\tCan find arbitrarily shaped clusters: Unlike k-means, which assumes spherical clusters, DBSCAN can find clusters of any shape.\n",
    "-\tNo need to specify the number of clusters: Unlike k-means, where you need to specify the number of clusters beforehand, DBSCAN only requires ε and MinPts.\n",
    "-   Not sensitive to noise as it accounts for noise during labelling.\n",
    "\n",
    "Disadvantages\n",
    "-\tSensitive to parameter selection: The results can be highly sensitive to the choice of ε and MinPts.\n",
    "-\tNot suitable for varying densities: DBSCAN struggles with data that has clusters with varying densities, as it uses the same ε and MinPts for all clusters.\n"
   ]
  },
  {
   "cell_type": "code",
   "execution_count": 1,
   "metadata": {},
   "outputs": [],
   "source": [
    "import pandas as pd\n",
    "import numpy as np\n",
    "import matplotlib.pyplot as plt\n",
    "import seaborn as sns\n",
    "from sklearn.cluster import DBSCAN\n",
    "from sklearn.model_selection import GridSearchCV\n",
    "from sklearn.metrics import make_scorer, silhouette_score\n",
    "import itertools\n",
    "import plotly.graph_objects as go"
   ]
  },
  {
   "cell_type": "code",
   "execution_count": 2,
   "metadata": {},
   "outputs": [
    {
     "data": {
      "text/html": [
       "<div>\n",
       "<style scoped>\n",
       "    .dataframe tbody tr th:only-of-type {\n",
       "        vertical-align: middle;\n",
       "    }\n",
       "\n",
       "    .dataframe tbody tr th {\n",
       "        vertical-align: top;\n",
       "    }\n",
       "\n",
       "    .dataframe thead th {\n",
       "        text-align: right;\n",
       "    }\n",
       "</style>\n",
       "<table border=\"1\" class=\"dataframe\">\n",
       "  <thead>\n",
       "    <tr style=\"text-align: right;\">\n",
       "      <th></th>\n",
       "      <th>CustomerID</th>\n",
       "      <th>PC1</th>\n",
       "      <th>PC2</th>\n",
       "      <th>PC3</th>\n",
       "      <th>PC4</th>\n",
       "      <th>PC5</th>\n",
       "      <th>PC6</th>\n",
       "    </tr>\n",
       "  </thead>\n",
       "  <tbody>\n",
       "    <tr>\n",
       "      <th>0</th>\n",
       "      <td>12346.0</td>\n",
       "      <td>-2.659371</td>\n",
       "      <td>-1.636472</td>\n",
       "      <td>-0.543115</td>\n",
       "      <td>-0.054209</td>\n",
       "      <td>-0.114366</td>\n",
       "      <td>-1.988442</td>\n",
       "    </tr>\n",
       "    <tr>\n",
       "      <th>1</th>\n",
       "      <td>12347.0</td>\n",
       "      <td>3.780832</td>\n",
       "      <td>-1.479966</td>\n",
       "      <td>0.605603</td>\n",
       "      <td>-0.345088</td>\n",
       "      <td>-0.010899</td>\n",
       "      <td>0.721764</td>\n",
       "    </tr>\n",
       "    <tr>\n",
       "      <th>2</th>\n",
       "      <td>12350.0</td>\n",
       "      <td>-1.819527</td>\n",
       "      <td>-0.541717</td>\n",
       "      <td>0.965524</td>\n",
       "      <td>-1.310723</td>\n",
       "      <td>-0.606334</td>\n",
       "      <td>0.227094</td>\n",
       "    </tr>\n",
       "    <tr>\n",
       "      <th>3</th>\n",
       "      <td>12352.0</td>\n",
       "      <td>0.232564</td>\n",
       "      <td>-1.475126</td>\n",
       "      <td>-0.938797</td>\n",
       "      <td>-0.539464</td>\n",
       "      <td>-0.220370</td>\n",
       "      <td>0.484831</td>\n",
       "    </tr>\n",
       "    <tr>\n",
       "      <th>4</th>\n",
       "      <td>12353.0</td>\n",
       "      <td>-2.318130</td>\n",
       "      <td>0.519302</td>\n",
       "      <td>-0.257238</td>\n",
       "      <td>-1.407346</td>\n",
       "      <td>-0.810911</td>\n",
       "      <td>0.718952</td>\n",
       "    </tr>\n",
       "  </tbody>\n",
       "</table>\n",
       "</div>"
      ],
      "text/plain": [
       "   CustomerID       PC1       PC2       PC3       PC4       PC5       PC6\n",
       "0     12346.0 -2.659371 -1.636472 -0.543115 -0.054209 -0.114366 -1.988442\n",
       "1     12347.0  3.780832 -1.479966  0.605603 -0.345088 -0.010899  0.721764\n",
       "2     12350.0 -1.819527 -0.541717  0.965524 -1.310723 -0.606334  0.227094\n",
       "3     12352.0  0.232564 -1.475126 -0.938797 -0.539464 -0.220370  0.484831\n",
       "4     12353.0 -2.318130  0.519302 -0.257238 -1.407346 -0.810911  0.718952"
      ]
     },
     "execution_count": 2,
     "metadata": {},
     "output_type": "execute_result"
    }
   ],
   "source": [
    "df = pd.read_csv(\"PCA_Customer_Data.csv\")\n",
    "df.head()"
   ]
  },
  {
   "cell_type": "code",
   "execution_count": 3,
   "metadata": {},
   "outputs": [
    {
     "data": {
      "text/html": [
       "<div>\n",
       "<style scoped>\n",
       "    .dataframe tbody tr th:only-of-type {\n",
       "        vertical-align: middle;\n",
       "    }\n",
       "\n",
       "    .dataframe tbody tr th {\n",
       "        vertical-align: top;\n",
       "    }\n",
       "\n",
       "    .dataframe thead th {\n",
       "        text-align: right;\n",
       "    }\n",
       "</style>\n",
       "<table border=\"1\" class=\"dataframe\">\n",
       "  <thead>\n",
       "    <tr style=\"text-align: right;\">\n",
       "      <th></th>\n",
       "      <th>PC1</th>\n",
       "      <th>PC2</th>\n",
       "      <th>PC3</th>\n",
       "      <th>PC4</th>\n",
       "      <th>PC5</th>\n",
       "      <th>PC6</th>\n",
       "    </tr>\n",
       "  </thead>\n",
       "  <tbody>\n",
       "    <tr>\n",
       "      <th>0</th>\n",
       "      <td>-2.659371</td>\n",
       "      <td>-1.636472</td>\n",
       "      <td>-0.543115</td>\n",
       "      <td>-0.054209</td>\n",
       "      <td>-0.114366</td>\n",
       "      <td>-1.988442</td>\n",
       "    </tr>\n",
       "    <tr>\n",
       "      <th>1</th>\n",
       "      <td>3.780832</td>\n",
       "      <td>-1.479966</td>\n",
       "      <td>0.605603</td>\n",
       "      <td>-0.345088</td>\n",
       "      <td>-0.010899</td>\n",
       "      <td>0.721764</td>\n",
       "    </tr>\n",
       "    <tr>\n",
       "      <th>2</th>\n",
       "      <td>-1.819527</td>\n",
       "      <td>-0.541717</td>\n",
       "      <td>0.965524</td>\n",
       "      <td>-1.310723</td>\n",
       "      <td>-0.606334</td>\n",
       "      <td>0.227094</td>\n",
       "    </tr>\n",
       "    <tr>\n",
       "      <th>3</th>\n",
       "      <td>0.232564</td>\n",
       "      <td>-1.475126</td>\n",
       "      <td>-0.938797</td>\n",
       "      <td>-0.539464</td>\n",
       "      <td>-0.220370</td>\n",
       "      <td>0.484831</td>\n",
       "    </tr>\n",
       "    <tr>\n",
       "      <th>4</th>\n",
       "      <td>-2.318130</td>\n",
       "      <td>0.519302</td>\n",
       "      <td>-0.257238</td>\n",
       "      <td>-1.407346</td>\n",
       "      <td>-0.810911</td>\n",
       "      <td>0.718952</td>\n",
       "    </tr>\n",
       "  </tbody>\n",
       "</table>\n",
       "</div>"
      ],
      "text/plain": [
       "        PC1       PC2       PC3       PC4       PC5       PC6\n",
       "0 -2.659371 -1.636472 -0.543115 -0.054209 -0.114366 -1.988442\n",
       "1  3.780832 -1.479966  0.605603 -0.345088 -0.010899  0.721764\n",
       "2 -1.819527 -0.541717  0.965524 -1.310723 -0.606334  0.227094\n",
       "3  0.232564 -1.475126 -0.938797 -0.539464 -0.220370  0.484831\n",
       "4 -2.318130  0.519302 -0.257238 -1.407346 -0.810911  0.718952"
      ]
     },
     "execution_count": 3,
     "metadata": {},
     "output_type": "execute_result"
    }
   ],
   "source": [
    "df.drop(columns=['CustomerID'], inplace=True)\n",
    "df.head()"
   ]
  },
  {
   "cell_type": "code",
   "execution_count": 4,
   "metadata": {},
   "outputs": [
    {
     "data": {
      "text/plain": [
       "<matplotlib.collections.PathCollection at 0x1aa8f049dd0>"
      ]
     },
     "execution_count": 4,
     "metadata": {},
     "output_type": "execute_result"
    },
    {
     "data": {
      "image/png": "[encoded data removed]",
      "text/plain": [
       "<Figure size 640x480 with 1 Axes>"
      ]
     },
     "metadata": {},
     "output_type": "display_data"
    }
   ],
   "source": [
    "plt.scatter(df['PC1'], df['PC2'])"
   ]
  },
  {
   "cell_type": "code",
   "execution_count": 27,
   "metadata": {},
   "outputs": [
    {
     "data": {
      "text/plain": [
       "240"
      ]
     },
     "execution_count": 27,
     "metadata": {},
     "output_type": "execute_result"
    }
   ],
   "source": [
    "epsilon = np.linspace(0.01, 1, 20)\n",
    "min_samples = np.arange(2, 25, 2)\n",
    "\n",
    "combinations = list(itertools.product(epsilon, min_samples))\n",
    "N = len(combinations)\n",
    "N"
   ]
  },
  {
   "cell_type": "code",
   "execution_count": 36,
   "metadata": {},
   "outputs": [],
   "source": [
    "def Gridsearch(combinations, X):\n",
    "    scores = []\n",
    "    all_label = []\n",
    "\n",
    "    for i, (eps, num_samples) in enumerate(combinations):\n",
    "        # dbscan_model = DBSCAN(eps=eps, min_samples=num_samples, \n",
    "        #                       metric='euclidean').fit(X)\n",
    "        dbscan_model = DBSCAN(eps=eps, min_samples=num_samples, \n",
    "                              metric='cosine').fit(X)\n",
    "        # dbscan_model = DBSCAN(eps=eps, min_samples=num_samples, \n",
    "        #                       metric='mahalanobis', metric_params={'VI':np.cov(X)}, \n",
    "        #                       algorithm='brute', leaf_size=30, n_jobs=-1).fit(X)\n",
    "        labels = dbscan_model.labels_\n",
    "        labels_set = set(labels)\n",
    "        num_clusters = len(labels_set)\n",
    "\n",
    "        # discounts the presence of noise as a considered cluster\n",
    "        if -1 in labels_set:\n",
    "            num_clusters -= 1\n",
    "\n",
    "        if (num_clusters < 2) or (num_clusters > 25):\n",
    "            scores.append(-20)\n",
    "            all_label.append(\"Poor\")\n",
    "            print(\" at iteration : \",i ,\"ep = \", eps, \"min_samples = \", num_samples, \"clusters = \", num_clusters, \"moving on... \")\n",
    "            continue\n",
    "\n",
    "        scores.append(silhouette_score(X, labels))\n",
    "        all_label.append(labels)\n",
    "        print(\" at iteration : \",i ,\"ep = \", eps, \"min_samples = \", num_samples, \"clusters = \", num_clusters)\n",
    "    \n",
    "    best_index = np.argmax(scores)\n",
    "    best_parameters = combinations[best_index]\n",
    "    best_labels = all_label[best_index]\n",
    "    best_score = scores[best_index]\n",
    "\n",
    "    return {\n",
    "        'best epsilon' : best_parameters[0],\n",
    "        'best_min_samples': best_parameters[1],\n",
    "        'best_labels': best_labels,\n",
    "        'best_score': best_score\n",
    "    }"
   ]
  },
  {
   "cell_type": "code",
   "execution_count": 37,
   "metadata": {},
   "outputs": [
    {
     "name": "stdout",
     "output_type": "stream",
     "text": [
      " at iteration :  0 ep =  0.01 min_samples =  2 clusters =  307 moving on... \n",
      " at iteration :  1 ep =  0.01 min_samples =  4 clusters =  56 moving on... \n",
      " at iteration :  2 ep =  0.01 min_samples =  6 clusters =  31 moving on... \n",
      " at iteration :  3 ep =  0.01 min_samples =  8 clusters =  16\n",
      " at iteration :  4 ep =  0.01 min_samples =  10 clusters =  7\n",
      " at iteration :  5 ep =  0.01 min_samples =  12 clusters =  8\n",
      " at iteration :  6 ep =  0.01 min_samples =  14 clusters =  3\n",
      " at iteration :  7 ep =  0.01 min_samples =  16 clusters =  3\n",
      " at iteration :  8 ep =  0.01 min_samples =  18 clusters =  2\n",
      " at iteration :  9 ep =  0.01 min_samples =  20 clusters =  2\n",
      " at iteration :  10 ep =  0.01 min_samples =  22 clusters =  2\n",
      " at iteration :  11 ep =  0.01 min_samples =  24 clusters =  3\n",
      " at iteration :  12 ep =  0.06210526315789474 min_samples =  2 clusters =  27 moving on... \n",
      " at iteration :  13 ep =  0.06210526315789474 min_samples =  4 clusters =  9\n",
      " at iteration :  14 ep =  0.06210526315789474 min_samples =  6 clusters =  7\n",
      " at iteration :  15 ep =  0.06210526315789474 min_samples =  8 clusters =  5\n",
      " at iteration :  16 ep =  0.06210526315789474 min_samples =  10 clusters =  4\n",
      " at iteration :  17 ep =  0.06210526315789474 min_samples =  12 clusters =  5\n",
      " at iteration :  18 ep =  0.06210526315789474 min_samples =  14 clusters =  4\n",
      " at iteration :  19 ep =  0.06210526315789474 min_samples =  16 clusters =  5\n",
      " at iteration :  20 ep =  0.06210526315789474 min_samples =  18 clusters =  7\n",
      " at iteration :  21 ep =  0.06210526315789474 min_samples =  20 clusters =  8\n",
      " at iteration :  22 ep =  0.06210526315789474 min_samples =  22 clusters =  8\n",
      " at iteration :  23 ep =  0.06210526315789474 min_samples =  24 clusters =  7\n",
      " at iteration :  24 ep =  0.11421052631578947 min_samples =  2 clusters =  4\n",
      " at iteration :  25 ep =  0.11421052631578947 min_samples =  4 clusters =  2\n",
      " at iteration :  26 ep =  0.11421052631578947 min_samples =  6 clusters =  2\n",
      " at iteration :  27 ep =  0.11421052631578947 min_samples =  8 clusters =  3\n",
      " at iteration :  28 ep =  0.11421052631578947 min_samples =  10 clusters =  2\n",
      " at iteration :  29 ep =  0.11421052631578947 min_samples =  12 clusters =  2\n",
      " at iteration :  30 ep =  0.11421052631578947 min_samples =  14 clusters =  2\n",
      " at iteration :  31 ep =  0.11421052631578947 min_samples =  16 clusters =  2\n",
      " at iteration :  32 ep =  0.11421052631578947 min_samples =  18 clusters =  2\n",
      " at iteration :  33 ep =  0.11421052631578947 min_samples =  20 clusters =  2\n",
      " at iteration :  34 ep =  0.11421052631578947 min_samples =  22 clusters =  2\n",
      " at iteration :  35 ep =  0.11421052631578947 min_samples =  24 clusters =  2\n",
      " at iteration :  36 ep =  0.16631578947368422 min_samples =  2 clusters =  1 moving on... \n",
      " at iteration :  37 ep =  0.16631578947368422 min_samples =  4 clusters =  1 moving on... \n",
      " at iteration :  38 ep =  0.16631578947368422 min_samples =  6 clusters =  1 moving on... \n",
      " at iteration :  39 ep =  0.16631578947368422 min_samples =  8 clusters =  1 moving on... \n",
      " at iteration :  40 ep =  0.16631578947368422 min_samples =  10 clusters =  1 moving on... \n",
      " at iteration :  41 ep =  0.16631578947368422 min_samples =  12 clusters =  1 moving on... \n",
      " at iteration :  42 ep =  0.16631578947368422 min_samples =  14 clusters =  1 moving on... \n",
      " at iteration :  43 ep =  0.16631578947368422 min_samples =  16 clusters =  1 moving on... \n",
      " at iteration :  44 ep =  0.16631578947368422 min_samples =  18 clusters =  1 moving on... \n",
      " at iteration :  45 ep =  0.16631578947368422 min_samples =  20 clusters =  1 moving on... \n",
      " at iteration :  46 ep =  0.16631578947368422 min_samples =  22 clusters =  1 moving on... \n",
      " at iteration :  47 ep =  0.16631578947368422 min_samples =  24 clusters =  1 moving on... \n",
      " at iteration :  48 ep =  0.21842105263157896 min_samples =  2 clusters =  1 moving on... \n",
      " at iteration :  49 ep =  0.21842105263157896 min_samples =  4 clusters =  1 moving on... \n",
      " at iteration :  50 ep =  0.21842105263157896 min_samples =  6 clusters =  1 moving on... \n",
      " at iteration :  51 ep =  0.21842105263157896 min_samples =  8 clusters =  1 moving on... \n",
      " at iteration :  52 ep =  0.21842105263157896 min_samples =  10 clusters =  1 moving on... \n",
      " at iteration :  53 ep =  0.21842105263157896 min_samples =  12 clusters =  1 moving on... \n",
      " at iteration :  54 ep =  0.21842105263157896 min_samples =  14 clusters =  1 moving on... \n",
      " at iteration :  55 ep =  0.21842105263157896 min_samples =  16 clusters =  1 moving on... \n",
      " at iteration :  56 ep =  0.21842105263157896 min_samples =  18 clusters =  1 moving on... \n",
      " at iteration :  57 ep =  0.21842105263157896 min_samples =  20 clusters =  1 moving on... \n",
      " at iteration :  58 ep =  0.21842105263157896 min_samples =  22 clusters =  1 moving on... \n",
      " at iteration :  59 ep =  0.21842105263157896 min_samples =  24 clusters =  1 moving on... \n",
      " at iteration :  60 ep =  0.2705263157894737 min_samples =  2 clusters =  1 moving on... \n",
      " at iteration :  61 ep =  0.2705263157894737 min_samples =  4 clusters =  1 moving on... \n",
      " at iteration :  62 ep =  0.2705263157894737 min_samples =  6 clusters =  1 moving on... \n",
      " at iteration :  63 ep =  0.2705263157894737 min_samples =  8 clusters =  1 moving on... \n",
      " at iteration :  64 ep =  0.2705263157894737 min_samples =  10 clusters =  1 moving on... \n",
      " at iteration :  65 ep =  0.2705263157894737 min_samples =  12 clusters =  1 moving on... \n",
      " at iteration :  66 ep =  0.2705263157894737 min_samples =  14 clusters =  1 moving on... \n",
      " at iteration :  67 ep =  0.2705263157894737 min_samples =  16 clusters =  1 moving on... \n",
      " at iteration :  68 ep =  0.2705263157894737 min_samples =  18 clusters =  1 moving on... \n",
      " at iteration :  69 ep =  0.2705263157894737 min_samples =  20 clusters =  1 moving on... \n",
      " at iteration :  70 ep =  0.2705263157894737 min_samples =  22 clusters =  1 moving on... \n",
      " at iteration :  71 ep =  0.2705263157894737 min_samples =  24 clusters =  1 moving on... \n",
      " at iteration :  72 ep =  0.32263157894736844 min_samples =  2 clusters =  1 moving on... \n",
      " at iteration :  73 ep =  0.32263157894736844 min_samples =  4 clusters =  1 moving on... \n",
      " at iteration :  74 ep =  0.32263157894736844 min_samples =  6 clusters =  1 moving on... \n",
      " at iteration :  75 ep =  0.32263157894736844 min_samples =  8 clusters =  1 moving on... \n",
      " at iteration :  76 ep =  0.32263157894736844 min_samples =  10 clusters =  1 moving on... \n",
      " at iteration :  77 ep =  0.32263157894736844 min_samples =  12 clusters =  1 moving on... \n",
      " at iteration :  78 ep =  0.32263157894736844 min_samples =  14 clusters =  1 moving on... \n",
      " at iteration :  79 ep =  0.32263157894736844 min_samples =  16 clusters =  1 moving on... \n",
      " at iteration :  80 ep =  0.32263157894736844 min_samples =  18 clusters =  1 moving on... \n",
      " at iteration :  81 ep =  0.32263157894736844 min_samples =  20 clusters =  1 moving on... \n",
      " at iteration :  82 ep =  0.32263157894736844 min_samples =  22 clusters =  1 moving on... \n",
      " at iteration :  83 ep =  0.32263157894736844 min_samples =  24 clusters =  1 moving on... \n",
      " at iteration :  84 ep =  0.37473684210526315 min_samples =  2 clusters =  1 moving on... \n",
      " at iteration :  85 ep =  0.37473684210526315 min_samples =  4 clusters =  1 moving on... \n",
      " at iteration :  86 ep =  0.37473684210526315 min_samples =  6 clusters =  1 moving on... \n",
      " at iteration :  87 ep =  0.37473684210526315 min_samples =  8 clusters =  1 moving on... \n",
      " at iteration :  88 ep =  0.37473684210526315 min_samples =  10 clusters =  1 moving on... \n",
      " at iteration :  89 ep =  0.37473684210526315 min_samples =  12 clusters =  1 moving on... \n",
      " at iteration :  90 ep =  0.37473684210526315 min_samples =  14 clusters =  1 moving on... \n",
      " at iteration :  91 ep =  0.37473684210526315 min_samples =  16 clusters =  1 moving on... \n",
      " at iteration :  92 ep =  0.37473684210526315 min_samples =  18 clusters =  1 moving on... \n",
      " at iteration :  93 ep =  0.37473684210526315 min_samples =  20 clusters =  1 moving on... \n",
      " at iteration :  94 ep =  0.37473684210526315 min_samples =  22 clusters =  1 moving on... \n",
      " at iteration :  95 ep =  0.37473684210526315 min_samples =  24 clusters =  1 moving on... \n",
      " at iteration :  96 ep =  0.4268421052631579 min_samples =  2 clusters =  1 moving on... \n",
      " at iteration :  97 ep =  0.4268421052631579 min_samples =  4 clusters =  1 moving on... \n",
      " at iteration :  98 ep =  0.4268421052631579 min_samples =  6 clusters =  1 moving on... \n",
      " at iteration :  99 ep =  0.4268421052631579 min_samples =  8 clusters =  1 moving on... \n",
      " at iteration :  100 ep =  0.4268421052631579 min_samples =  10 clusters =  1 moving on... \n",
      " at iteration :  101 ep =  0.4268421052631579 min_samples =  12 clusters =  1 moving on... \n",
      " at iteration :  102 ep =  0.4268421052631579 min_samples =  14 clusters =  1 moving on... \n",
      " at iteration :  103 ep =  0.4268421052631579 min_samples =  16 clusters =  1 moving on... \n",
      " at iteration :  104 ep =  0.4268421052631579 min_samples =  18 clusters =  1 moving on... \n",
      " at iteration :  105 ep =  0.4268421052631579 min_samples =  20 clusters =  1 moving on... \n",
      " at iteration :  106 ep =  0.4268421052631579 min_samples =  22 clusters =  1 moving on... \n",
      " at iteration :  107 ep =  0.4268421052631579 min_samples =  24 clusters =  1 moving on... \n",
      " at iteration :  108 ep =  0.4789473684210527 min_samples =  2 clusters =  1 moving on... \n",
      " at iteration :  109 ep =  0.4789473684210527 min_samples =  4 clusters =  1 moving on... \n",
      " at iteration :  110 ep =  0.4789473684210527 min_samples =  6 clusters =  1 moving on... \n",
      " at iteration :  111 ep =  0.4789473684210527 min_samples =  8 clusters =  1 moving on... \n",
      " at iteration :  112 ep =  0.4789473684210527 min_samples =  10 clusters =  1 moving on... \n",
      " at iteration :  113 ep =  0.4789473684210527 min_samples =  12 clusters =  1 moving on... \n",
      " at iteration :  114 ep =  0.4789473684210527 min_samples =  14 clusters =  1 moving on... \n",
      " at iteration :  115 ep =  0.4789473684210527 min_samples =  16 clusters =  1 moving on... \n",
      " at iteration :  116 ep =  0.4789473684210527 min_samples =  18 clusters =  1 moving on... \n",
      " at iteration :  117 ep =  0.4789473684210527 min_samples =  20 clusters =  1 moving on... \n",
      " at iteration :  118 ep =  0.4789473684210527 min_samples =  22 clusters =  1 moving on... \n",
      " at iteration :  119 ep =  0.4789473684210527 min_samples =  24 clusters =  1 moving on... \n",
      " at iteration :  120 ep =  0.5310526315789474 min_samples =  2 clusters =  1 moving on... \n",
      " at iteration :  121 ep =  0.5310526315789474 min_samples =  4 clusters =  1 moving on... \n",
      " at iteration :  122 ep =  0.5310526315789474 min_samples =  6 clusters =  1 moving on... \n",
      " at iteration :  123 ep =  0.5310526315789474 min_samples =  8 clusters =  1 moving on... \n",
      " at iteration :  124 ep =  0.5310526315789474 min_samples =  10 clusters =  1 moving on... \n",
      " at iteration :  125 ep =  0.5310526315789474 min_samples =  12 clusters =  1 moving on... \n",
      " at iteration :  126 ep =  0.5310526315789474 min_samples =  14 clusters =  1 moving on... \n",
      " at iteration :  127 ep =  0.5310526315789474 min_samples =  16 clusters =  1 moving on... \n",
      " at iteration :  128 ep =  0.5310526315789474 min_samples =  18 clusters =  1 moving on... \n",
      " at iteration :  129 ep =  0.5310526315789474 min_samples =  20 clusters =  1 moving on... \n",
      " at iteration :  130 ep =  0.5310526315789474 min_samples =  22 clusters =  1 moving on... \n",
      " at iteration :  131 ep =  0.5310526315789474 min_samples =  24 clusters =  1 moving on... \n",
      " at iteration :  132 ep =  0.5831578947368421 min_samples =  2 clusters =  1 moving on... \n",
      " at iteration :  133 ep =  0.5831578947368421 min_samples =  4 clusters =  1 moving on... \n",
      " at iteration :  134 ep =  0.5831578947368421 min_samples =  6 clusters =  1 moving on... \n",
      " at iteration :  135 ep =  0.5831578947368421 min_samples =  8 clusters =  1 moving on... \n",
      " at iteration :  136 ep =  0.5831578947368421 min_samples =  10 clusters =  1 moving on... \n",
      " at iteration :  137 ep =  0.5831578947368421 min_samples =  12 clusters =  1 moving on... \n",
      " at iteration :  138 ep =  0.5831578947368421 min_samples =  14 clusters =  1 moving on... \n",
      " at iteration :  139 ep =  0.5831578947368421 min_samples =  16 clusters =  1 moving on... \n",
      " at iteration :  140 ep =  0.5831578947368421 min_samples =  18 clusters =  1 moving on... \n",
      " at iteration :  141 ep =  0.5831578947368421 min_samples =  20 clusters =  1 moving on... \n",
      " at iteration :  142 ep =  0.5831578947368421 min_samples =  22 clusters =  1 moving on... \n",
      " at iteration :  143 ep =  0.5831578947368421 min_samples =  24 clusters =  1 moving on... \n",
      " at iteration :  144 ep =  0.6352631578947369 min_samples =  2 clusters =  1 moving on... \n",
      " at iteration :  145 ep =  0.6352631578947369 min_samples =  4 clusters =  1 moving on... \n",
      " at iteration :  146 ep =  0.6352631578947369 min_samples =  6 clusters =  1 moving on... \n",
      " at iteration :  147 ep =  0.6352631578947369 min_samples =  8 clusters =  1 moving on... \n",
      " at iteration :  148 ep =  0.6352631578947369 min_samples =  10 clusters =  1 moving on... \n",
      " at iteration :  149 ep =  0.6352631578947369 min_samples =  12 clusters =  1 moving on... \n",
      " at iteration :  150 ep =  0.6352631578947369 min_samples =  14 clusters =  1 moving on... \n",
      " at iteration :  151 ep =  0.6352631578947369 min_samples =  16 clusters =  1 moving on... \n",
      " at iteration :  152 ep =  0.6352631578947369 min_samples =  18 clusters =  1 moving on... \n",
      " at iteration :  153 ep =  0.6352631578947369 min_samples =  20 clusters =  1 moving on... \n",
      " at iteration :  154 ep =  0.6352631578947369 min_samples =  22 clusters =  1 moving on... \n",
      " at iteration :  155 ep =  0.6352631578947369 min_samples =  24 clusters =  1 moving on... \n",
      " at iteration :  156 ep =  0.6873684210526316 min_samples =  2 clusters =  1 moving on... \n",
      " at iteration :  157 ep =  0.6873684210526316 min_samples =  4 clusters =  1 moving on... \n",
      " at iteration :  158 ep =  0.6873684210526316 min_samples =  6 clusters =  1 moving on... \n",
      " at iteration :  159 ep =  0.6873684210526316 min_samples =  8 clusters =  1 moving on... \n",
      " at iteration :  160 ep =  0.6873684210526316 min_samples =  10 clusters =  1 moving on... \n",
      " at iteration :  161 ep =  0.6873684210526316 min_samples =  12 clusters =  1 moving on... \n",
      " at iteration :  162 ep =  0.6873684210526316 min_samples =  14 clusters =  1 moving on... \n",
      " at iteration :  163 ep =  0.6873684210526316 min_samples =  16 clusters =  1 moving on... \n",
      " at iteration :  164 ep =  0.6873684210526316 min_samples =  18 clusters =  1 moving on... \n",
      " at iteration :  165 ep =  0.6873684210526316 min_samples =  20 clusters =  1 moving on... \n",
      " at iteration :  166 ep =  0.6873684210526316 min_samples =  22 clusters =  1 moving on... \n",
      " at iteration :  167 ep =  0.6873684210526316 min_samples =  24 clusters =  1 moving on... \n",
      " at iteration :  168 ep =  0.7394736842105263 min_samples =  2 clusters =  1 moving on... \n",
      " at iteration :  169 ep =  0.7394736842105263 min_samples =  4 clusters =  1 moving on... \n",
      " at iteration :  170 ep =  0.7394736842105263 min_samples =  6 clusters =  1 moving on... \n",
      " at iteration :  171 ep =  0.7394736842105263 min_samples =  8 clusters =  1 moving on... \n",
      " at iteration :  172 ep =  0.7394736842105263 min_samples =  10 clusters =  1 moving on... \n",
      " at iteration :  173 ep =  0.7394736842105263 min_samples =  12 clusters =  1 moving on... \n",
      " at iteration :  174 ep =  0.7394736842105263 min_samples =  14 clusters =  1 moving on... \n",
      " at iteration :  175 ep =  0.7394736842105263 min_samples =  16 clusters =  1 moving on... \n",
      " at iteration :  176 ep =  0.7394736842105263 min_samples =  18 clusters =  1 moving on... \n",
      " at iteration :  177 ep =  0.7394736842105263 min_samples =  20 clusters =  1 moving on... \n",
      " at iteration :  178 ep =  0.7394736842105263 min_samples =  22 clusters =  1 moving on... \n",
      " at iteration :  179 ep =  0.7394736842105263 min_samples =  24 clusters =  1 moving on... \n",
      " at iteration :  180 ep =  0.791578947368421 min_samples =  2 clusters =  1 moving on... \n",
      " at iteration :  181 ep =  0.791578947368421 min_samples =  4 clusters =  1 moving on... \n",
      " at iteration :  182 ep =  0.791578947368421 min_samples =  6 clusters =  1 moving on... \n",
      " at iteration :  183 ep =  0.791578947368421 min_samples =  8 clusters =  1 moving on... \n",
      " at iteration :  184 ep =  0.791578947368421 min_samples =  10 clusters =  1 moving on... \n",
      " at iteration :  185 ep =  0.791578947368421 min_samples =  12 clusters =  1 moving on... \n",
      " at iteration :  186 ep =  0.791578947368421 min_samples =  14 clusters =  1 moving on... \n",
      " at iteration :  187 ep =  0.791578947368421 min_samples =  16 clusters =  1 moving on... \n",
      " at iteration :  188 ep =  0.791578947368421 min_samples =  18 clusters =  1 moving on... \n",
      " at iteration :  189 ep =  0.791578947368421 min_samples =  20 clusters =  1 moving on... \n",
      " at iteration :  190 ep =  0.791578947368421 min_samples =  22 clusters =  1 moving on... \n",
      " at iteration :  191 ep =  0.791578947368421 min_samples =  24 clusters =  1 moving on... \n",
      " at iteration :  192 ep =  0.8436842105263158 min_samples =  2 clusters =  1 moving on... \n",
      " at iteration :  193 ep =  0.8436842105263158 min_samples =  4 clusters =  1 moving on... \n",
      " at iteration :  194 ep =  0.8436842105263158 min_samples =  6 clusters =  1 moving on... \n",
      " at iteration :  195 ep =  0.8436842105263158 min_samples =  8 clusters =  1 moving on... \n",
      " at iteration :  196 ep =  0.8436842105263158 min_samples =  10 clusters =  1 moving on... \n",
      " at iteration :  197 ep =  0.8436842105263158 min_samples =  12 clusters =  1 moving on... \n",
      " at iteration :  198 ep =  0.8436842105263158 min_samples =  14 clusters =  1 moving on... \n",
      " at iteration :  199 ep =  0.8436842105263158 min_samples =  16 clusters =  1 moving on... \n",
      " at iteration :  200 ep =  0.8436842105263158 min_samples =  18 clusters =  1 moving on... \n",
      " at iteration :  201 ep =  0.8436842105263158 min_samples =  20 clusters =  1 moving on... \n",
      " at iteration :  202 ep =  0.8436842105263158 min_samples =  22 clusters =  1 moving on... \n",
      " at iteration :  203 ep =  0.8436842105263158 min_samples =  24 clusters =  1 moving on... \n",
      " at iteration :  204 ep =  0.8957894736842106 min_samples =  2 clusters =  1 moving on... \n",
      " at iteration :  205 ep =  0.8957894736842106 min_samples =  4 clusters =  1 moving on... \n",
      " at iteration :  206 ep =  0.8957894736842106 min_samples =  6 clusters =  1 moving on... \n",
      " at iteration :  207 ep =  0.8957894736842106 min_samples =  8 clusters =  1 moving on... \n",
      " at iteration :  208 ep =  0.8957894736842106 min_samples =  10 clusters =  1 moving on... \n",
      " at iteration :  209 ep =  0.8957894736842106 min_samples =  12 clusters =  1 moving on... \n",
      " at iteration :  210 ep =  0.8957894736842106 min_samples =  14 clusters =  1 moving on... \n",
      " at iteration :  211 ep =  0.8957894736842106 min_samples =  16 clusters =  1 moving on... \n",
      " at iteration :  212 ep =  0.8957894736842106 min_samples =  18 clusters =  1 moving on... \n",
      " at iteration :  213 ep =  0.8957894736842106 min_samples =  20 clusters =  1 moving on... \n",
      " at iteration :  214 ep =  0.8957894736842106 min_samples =  22 clusters =  1 moving on... \n",
      " at iteration :  215 ep =  0.8957894736842106 min_samples =  24 clusters =  1 moving on... \n",
      " at iteration :  216 ep =  0.9478947368421053 min_samples =  2 clusters =  1 moving on... \n",
      " at iteration :  217 ep =  0.9478947368421053 min_samples =  4 clusters =  1 moving on... \n",
      " at iteration :  218 ep =  0.9478947368421053 min_samples =  6 clusters =  1 moving on... \n",
      " at iteration :  219 ep =  0.9478947368421053 min_samples =  8 clusters =  1 moving on... \n",
      " at iteration :  220 ep =  0.9478947368421053 min_samples =  10 clusters =  1 moving on... \n",
      " at iteration :  221 ep =  0.9478947368421053 min_samples =  12 clusters =  1 moving on... \n",
      " at iteration :  222 ep =  0.9478947368421053 min_samples =  14 clusters =  1 moving on... \n",
      " at iteration :  223 ep =  0.9478947368421053 min_samples =  16 clusters =  1 moving on... \n",
      " at iteration :  224 ep =  0.9478947368421053 min_samples =  18 clusters =  1 moving on... \n",
      " at iteration :  225 ep =  0.9478947368421053 min_samples =  20 clusters =  1 moving on... \n",
      " at iteration :  226 ep =  0.9478947368421053 min_samples =  22 clusters =  1 moving on... \n",
      " at iteration :  227 ep =  0.9478947368421053 min_samples =  24 clusters =  1 moving on... \n",
      " at iteration :  228 ep =  1.0 min_samples =  2 clusters =  1 moving on... \n",
      " at iteration :  229 ep =  1.0 min_samples =  4 clusters =  1 moving on... \n",
      " at iteration :  230 ep =  1.0 min_samples =  6 clusters =  1 moving on... \n",
      " at iteration :  231 ep =  1.0 min_samples =  8 clusters =  1 moving on... \n",
      " at iteration :  232 ep =  1.0 min_samples =  10 clusters =  1 moving on... \n",
      " at iteration :  233 ep =  1.0 min_samples =  12 clusters =  1 moving on... \n",
      " at iteration :  234 ep =  1.0 min_samples =  14 clusters =  1 moving on... \n",
      " at iteration :  235 ep =  1.0 min_samples =  16 clusters =  1 moving on... \n",
      " at iteration :  236 ep =  1.0 min_samples =  18 clusters =  1 moving on... \n",
      " at iteration :  237 ep =  1.0 min_samples =  20 clusters =  1 moving on... \n",
      " at iteration :  238 ep =  1.0 min_samples =  22 clusters =  1 moving on... \n",
      " at iteration :  239 ep =  1.0 min_samples =  24 clusters =  1 moving on... \n"
     ]
    }
   ],
   "source": [
    "best_params = Gridsearch(combinations, df)"
   ]
  },
  {
   "cell_type": "code",
   "execution_count": 38,
   "metadata": {},
   "outputs": [
    {
     "name": "stdout",
     "output_type": "stream",
     "text": [
      "{'best epsilon': 0.01, 'best_min_samples': 18, 'best_labels': array([-1, -1, -1, ..., -1, -1, -1], dtype=int64), 'best_score': 0.3012725385122651}\n"
     ]
    }
   ],
   "source": [
    "print(best_params)"
   ]
  },
  {
   "cell_type": "code",
   "execution_count": 39,
   "metadata": {},
   "outputs": [],
   "source": [
    "df['cluster'] = best_params['best_labels']"
   ]
  },
  {
   "cell_type": "code",
   "execution_count": 40,
   "metadata": {},
   "outputs": [
    {
     "data": {
      "image/png": "[encoded data removed]",
      "text/plain": [
       "<Figure size 640x480 with 1 Axes>"
      ]
     },
     "metadata": {},
     "output_type": "display_data"
    }
   ],
   "source": [
    "# Plot results\n",
    "unique_labels = set(df['cluster'])\n",
    "colors = [plt.cm.Spectral(each) for each in np.linspace(0, 1, len(unique_labels))]\n",
    "\n",
    "for k, col in zip(unique_labels, colors):\n",
    "    if k == -1:\n",
    "        # Black is used for noise.\n",
    "        col = [0, 0, 0, 1]\n",
    "\n",
    "    class_member_mask = (df['cluster'] == k)\n",
    "\n",
    "    xy = df[class_member_mask].values\n",
    "    plt.plot(xy[:, 1], xy[:, 2], 'o', markerfacecolor=tuple(col), markeredgecolor='k', markersize=6)\n",
    "\n",
    "plt.title('DBSCAN clustering')\n",
    "plt.show()"
   ]
  },
  {
   "cell_type": "code",
   "execution_count": 41,
   "metadata": {},
   "outputs": [
    {
     "name": "stdout",
     "output_type": "stream",
     "text": [
      "{0, 1, -1}\n"
     ]
    }
   ],
   "source": [
    "print(unique_labels)"
   ]
  },
  {
   "cell_type": "code",
   "execution_count": 42,
   "metadata": {},
   "outputs": [
    {
     "data": {
      "application/vnd.plotly.v1+json": {
       "config": {
        "plotlyServerURL": "https://plot.ly"
       },
       "data": [
        {
         "marker": {
          "color": "#e8000b",
          "opacity": 0.4,
          "size": 5
         },
         "mode": "markers",
         "name": "Cluster 0",
         "type": "scatter3d",
         "x": [
          -0.9673334241978154,
          -1.4965784774351665,
          -1.502454719678313,
          -1.9836102765147263,
          -0.6924608029535649,
          -2.1854000643003744,
          -1.6009349896112834,
          -1.5426231959554513,
          -0.7466116600014671,
          -1.074200623709526,
          -0.7358961522979183,
          -1.5675636813472946,
          -1.3897278324867963,
          -0.1717559839350577,
          -1.60851376510218,
          -1.7493619734213492,
          -1.8126204078963664,
          -1.2849242436596209,
          -0.8172383526682542,
          -1.689679128578137,
          -1.4913583370174803,
          -1.4006339370802765,
          -1.0462056916212856,
          -2.201087687347568,
          -0.8195271844490374,
          -1.9334536966689264,
          -1.136939325737217,
          -1.3112576967413183,
          -0.7389089434241654,
          -1.4272905429519551,
          -1.0750854183074412,
          -1.6068112149345983,
          -1.3453431949402148,
          -1.7326914912235771,
          -0.7850552851062041,
          -0.1510736353723228,
          -1.9871761388717304,
          -1.746451662258981,
          -2.176722863046457,
          -1.3019288380127518,
          -2.064911285229714,
          -1.6378605692836763,
          -1.0110991026994076,
          -2.046502807137081,
          -1.125252445648621,
          -0.4534310372422229,
          -1.9688059636060788,
          -2.015707150161766,
          -1.334218839567339,
          -1.2183129765824106,
          -1.2600332484266197,
          -1.1487084415972326,
          -1.765048067184298,
          -1.0336645075307729,
          -0.7242656209972574,
          -1.42921845960949,
          -1.6862814024104642,
          -1.6948261762896633,
          -2.476464047654724,
          -0.7116718045590611,
          -1.884971720644681,
          -1.821891365672886,
          -1.8083291519638305,
          -0.8282996470412521,
          -1.136865370021339,
          -1.6342076074268723,
          -1.5011637064123613,
          -1.418696562296528,
          -2.085199687892456,
          -1.414526493727562,
          -1.0253972961249032,
          -0.4594634729943112,
          -0.7683626508732565,
          -1.0512184382953491,
          -2.215509742404782,
          -0.8391835227729423,
          -2.0292396106001016,
          -1.7229106323970873,
          -0.9590085188341984,
          -0.993225645411136,
          -1.3579094814619836,
          -1.4517679543914122,
          -1.6037554738124264,
          -1.9668149454212625,
          -1.559153468059752,
          -1.737605548986867,
          -1.8825022499411752,
          -1.6087559109995528,
          -1.777697684019866,
          -0.558044669804778,
          -0.5829009083301381,
          -0.6430759408113323,
          -0.7439085878554048,
          -1.7072036092041567,
          -1.722726781698068,
          -2.271885127768516,
          -1.0034304865408503,
          -1.0420152264421898,
          -1.3647889531884596,
          -1.7426333052569392,
          -2.039239882841662,
          -1.1715454828271197,
          -1.5821106471808657,
          -1.71331666547335,
          -1.4876160495839583,
          -2.214205586628481,
          -1.3965067649116492,
          -1.178131834577186,
          -0.6331079391447011,
          -0.919097262687255,
          -1.3721245132639026,
          -1.43056963158057,
          -1.52229579951756,
          -1.301027854692587,
          -1.4493798082236693,
          -0.88521044728618,
          -1.4309101043791526,
          -2.1304263940355117,
          -1.4759375600272282,
          -1.7316292832185922,
          -1.3425430420115156,
          -2.0882470012596,
          -1.327319261579304,
          -1.7012767153452453,
          -0.8133328271629231,
          -1.044311449039384,
          -1.2954282854937604,
          -0.8762089072033578,
          -2.1900559066681877,
          -1.7770776076835186,
          -0.9780928146932591,
          -1.450584536666108,
          -2.008888986965581,
          -2.2983539877175123,
          -0.6689415654648688,
          -1.1238980902352973,
          -0.938392381184914,
          -0.9696535847907494,
          -0.9083366644379478,
          -1.2630739416699033,
          -1.694375036696767,
          -1.5729281745315835,
          -1.1116519058411696,
          -1.2226514859160902,
          -0.2246016175572454,
          -1.2127342655039386,
          -1.903678315229,
          -1.5579574248488597,
          -1.9386047780914248,
          -1.5510221329938465,
          -1.4438802587085475,
          -0.1022824381343152,
          -1.417639268123578,
          -1.066235875338176,
          -1.0808356783805844,
          -1.4942525806606546,
          -2.149662073414996,
          -1.818691633350308,
          -1.506968346483255,
          -1.944254858031352,
          -1.7983940070173423,
          -1.505357350094458,
          -1.9548224031680936,
          -1.700492836947444,
          -1.2654158168049598,
          -0.4768904001386282,
          -1.8955059859027208,
          -1.355882641049528,
          -1.3953915966126087,
          -0.9992741767286244,
          -1.0811384218821367,
          -1.3353766924214294,
          -0.6153796352465141,
          -1.050951932188874,
          -0.9880794432516244,
          -1.011963491857114,
          -1.056434169152932,
          -2.086810825099658,
          -0.0882410123909918,
          -0.685991915342105,
          -1.4171824100616002,
          -0.9540318373870113,
          -1.1513863340381345,
          -1.2158749122747252,
          -2.0102943548634404,
          -1.647827025120317,
          -0.99685287225595,
          -1.3878404469072958,
          -0.5341900050441809,
          -1.5211156913529789,
          -1.7434557842760745,
          -1.2877396876271383,
          -0.8282416391245601,
          -1.6954300816249055,
          -0.5924671946749889,
          -1.834722452715048,
          -0.343209081064651,
          -1.4180557812169738,
          -1.9457114381739755,
          -1.4004333834445792,
          -1.2311044563649136,
          -1.1126884069790397,
          -1.6422282075242594,
          -0.8172740550007587,
          -0.7277927462096709,
          -1.389825241706793,
          -1.8338987246442715,
          -1.2111990569865072,
          -1.6992793354592737,
          -2.2978443214565902,
          -2.1035347133610105,
          -0.5595359951598307,
          -1.7243205340741796,
          -1.7860014563347806,
          -0.4701137480456313,
          -0.7933251620908512,
          -1.7120085446276698,
          -1.1641513054366022,
          -1.2331859294371736,
          -1.569989914474647,
          -0.8830069157740915,
          -1.3204251035147032,
          -1.9553938166639733,
          -1.069885977453486,
          -1.962145537898287,
          -2.059362516196146,
          -1.4878037065857808,
          -1.1774645105792323,
          -1.7158205107882083,
          -1.4006690869621297,
          -1.3805841773004652,
          -0.8310022833309612,
          -1.643782068100847,
          -1.6581278227192495,
          -2.0290408239843094,
          -0.3477663642820411,
          -2.456989292401776,
          -1.679343597145852,
          -0.6593279381497323,
          -0.5664849574404435,
          -0.946684810611408,
          -1.157937544324777,
          -1.9888994339682904,
          -1.621758098653022,
          -1.892376848300845,
          -1.4197410553619938,
          -1.434696532810353,
          -0.9208799489882464,
          -1.6659767065656756,
          -1.1361261797649604,
          -1.867562400573121,
          -1.4962204147030125,
          -0.8765149488713162,
          -0.9990920348699958,
          -1.4524937310964938,
          -1.602831736659102,
          -0.9868037018660132,
          -1.838380169754323,
          -1.4283020949331076,
          -1.3709122706165109,
          -0.9853186078368464,
          -0.5618421701037811,
          -1.4956417046990134,
          -1.5817871812529207,
          -0.9048643555841432,
          -1.4255872204466995,
          -1.7445052598084274,
          -1.4128264767050445,
          -1.9371776175043631,
          -1.459706316506753,
          -2.065985824592132,
          -1.5378584780688016,
          -0.2543412301047958,
          -0.9731511841199028,
          -1.0006445397113035,
          -1.4251137566859953,
          -0.9920932477830826,
          -2.380197799065574,
          -1.4076976812903523,
          -1.663509877436718,
          -1.0274282085197135,
          -1.9325057987657528,
          -1.8444310767380447,
          -1.435186582645045,
          -1.685572028379706,
          -1.9393627598701064,
          -2.179340781673311,
          -1.2853841496390124,
          -1.5899857158219453,
          -1.6085591153354657,
          -0.8847170139478013,
          -1.4020322211230205,
          -1.659919659577617,
          -0.8647396254817238,
          -1.3728285743676023,
          -1.4790129318131375,
          -1.5430526906128514,
          -1.5789337441125364,
          -1.7243351247800296,
          -1.7073661393323667,
          -2.0020487934206352,
          -1.3531841704048952,
          -1.4972551118191713,
          -1.5998191079861224,
          -1.3297776398863317,
          -0.971412746144064,
          -1.3665013082654227,
          -1.914549704140954,
          -0.5108773229497389,
          -2.084345532876175,
          -1.2339314479428891,
          -1.5006640882121485,
          -1.824694142309112,
          -1.9901779699977036,
          -2.0568943924760528,
          -0.8725461630754137,
          -1.7190677497733255,
          -1.617199720612719,
          -2.0317131978931715
         ],
         "y": [
          -2.582627280395461,
          -2.472529026066685,
          -1.5247005433621568,
          -2.466868011599073,
          -1.6206740381535585,
          -2.563104061541243,
          -1.4987341463240755,
          -2.5186995625469333,
          -2.6085999390845998,
          -2.600902103303586,
          -2.629718678515678,
          -2.5080219393037546,
          -1.6712211489045392,
          -2.4944345396644554,
          -2.678931169646585,
          -1.6019249006033174,
          -1.5663337186000117,
          -2.5615170371189437,
          -1.545177909545859,
          -2.631627225300444,
          -1.5686812472925964,
          -2.652468088514562,
          -2.6545455084050573,
          -2.509035578173999,
          -1.6095648285046795,
          -1.590376840927611,
          -2.509535412978962,
          -2.5849865083561205,
          -2.489122757900616,
          -1.4817887737295343,
          -1.5319746293120853,
          -2.5866148052532485,
          -2.6177335479466066,
          -2.562928095752452,
          -1.6574172526918456,
          -2.4976321225993616,
          -2.6542930656673884,
          -1.5845128459834437,
          -2.522732635678373,
          -2.665029980848488,
          -1.4973893419805349,
          -1.5428859605651972,
          -1.5279490300510723,
          -2.5745725351602693,
          -2.5731429325328143,
          -2.5569193479460948,
          -2.530962625873312,
          -2.5494558803741216,
          -1.5160388310018127,
          -1.6738429861636062,
          -1.6744127401193043,
          -1.6065522049561531,
          -1.6640118405932067,
          -1.470334263832895,
          -2.6690301411691104,
          -1.5324058372781664,
          -1.657157226428562,
          -1.6600803079783355,
          -2.549066640917368,
          -1.657198667936109,
          -2.5320146031083457,
          -2.56090969054742,
          -2.5165763604870723,
          -2.473724471938368,
          -2.6404543426942424,
          -1.507132581247082,
          -1.6470328502384084,
          -1.680912479279311,
          -1.5641335499433002,
          -2.5622352533901496,
          -2.600561300639271,
          -2.491599287057235,
          -2.60405874280142,
          -1.6485061936027323,
          -2.585104589219206,
          -2.57215346309041,
          -2.497844465357041,
          -2.5261603326142463,
          -2.6003351807220896,
          -2.601399200407864,
          -1.710425489487886,
          -2.5556688529243567,
          -2.6327764865096066,
          -2.545811391512019,
          -2.4775225296582097,
          -1.4711123472711458,
          -2.5794038040799934,
          -2.600955034208544,
          -2.562454109326949,
          -2.582677320292452,
          -2.579906933719741,
          -1.4842513475259007,
          -1.6227647240391698,
          -1.58127205804231,
          -2.4564891282075534,
          -2.556340480005489,
          -2.561546943996428,
          -1.5443276197585198,
          -1.5861521800368688,
          -2.63198792141462,
          -2.513027932890274,
          -2.6318540886871533,
          -2.606240296538171,
          -1.645233182557902,
          -1.4713251565635348,
          -2.6823793351724663,
          -1.5365216764172485,
          -1.547195503248422,
          -2.564082998851075,
          -1.6652126119824062,
          -1.542560176709665,
          -1.5729968886998449,
          -2.539022807723485,
          -1.6609102729865195,
          -1.5207678414724377,
          -2.565578679601821,
          -1.5749846688390114,
          -2.5352247927719707,
          -1.548837670307508,
          -2.543678370070878,
          -2.6006097631006817,
          -2.6429275199392146,
          -2.500360307575438,
          -1.5749940116868648,
          -1.4821942257371772,
          -2.616058378922021,
          -2.5997907885782614,
          -2.4997582108007963,
          -2.673752638591138,
          -2.5799464699139003,
          -1.5112330526950943,
          -1.67809467271314,
          -2.5234601642096712,
          -2.589480200623387,
          -2.581692381556847,
          -2.519098364763785,
          -2.5429390582578963,
          -1.6899216896049172,
          -1.601861166231722,
          -2.537895062270913,
          -2.5894736322667997,
          -2.6794385538595065,
          -2.5441591245858075,
          -1.6286294694437968,
          -2.5134991759945926,
          -2.638759070241848,
          -2.6526438332357314,
          -2.610521359936313,
          -1.6087335516778418,
          -2.6424390191370044,
          -1.61225614679753,
          -2.6083874689608555,
          -2.551207732445117,
          -1.639424935973045,
          -1.586195863602364,
          -2.4945540437049494,
          -2.5787139603559472,
          -1.5234062779618809,
          -1.6460895101721185,
          -1.5111914710676653,
          -1.5525412274408943,
          -2.5478666719640923,
          -2.5278937864166964,
          -2.5620949482167656,
          -2.5480717848384056,
          -2.534342843404539,
          -2.6832193442798515,
          -2.626542723761382,
          -1.531552900471451,
          -1.7140595950604385,
          -2.485394990493249,
          -1.6850724503154566,
          -1.5217332562259889,
          -2.645665067615608,
          -1.6882307481694934,
          -1.694711842197167,
          -2.5726927814488927,
          -1.576469589149411,
          -2.557747323384042,
          -1.611781492085228,
          -1.6343759269406382,
          -1.510061419401205,
          -1.66006130776847,
          -1.5099347039558302,
          -2.60817949751755,
          -2.490462231631692,
          -2.590952767572324,
          -1.510766221573504,
          -2.5990798643622277,
          -2.5260187877542144,
          -1.5648692168056069,
          -2.6306140467958734,
          -2.5660307683319106,
          -1.692032703581918,
          -1.5973578545345746,
          -2.543152776696812,
          -1.4584127081344174,
          -1.6828189086776648,
          -1.518897578520651,
          -2.6590393279038174,
          -1.5826837694117406,
          -2.5549095524803422,
          -1.6977216124816965,
          -2.5815224695694576,
          -2.601026240670289,
          -1.6433421296251745,
          -2.615433954612329,
          -1.516613891391707,
          -1.5754933242494138,
          -2.557104826811261,
          -2.5089689417340755,
          -1.6872145127623857,
          -2.557112769593303,
          -2.518469886179028,
          -2.5204777908241187,
          -2.519756130798081,
          -1.5844404704489137,
          -1.5928326627464833,
          -2.5485621867534705,
          -2.553588044307744,
          -1.6772841838798094,
          -1.6739800883339402,
          -2.517398523281028,
          -1.5274293498643483,
          -1.5571842395398356,
          -2.569419339954812,
          -1.6129863488932503,
          -1.580954042681986,
          -2.620523719155873,
          -1.6838759911032806,
          -2.571706329451785,
          -1.6465067239547932,
          -1.4947035456331914,
          -2.4811151253353976,
          -2.649175764412034,
          -1.5943186748928029,
          -2.582174980729051,
          -2.6806671177324315,
          -2.538790760051362,
          -2.627771366018379,
          -1.6198964534130802,
          -1.6972582991189564,
          -2.659980367104608,
          -2.657049224610053,
          -2.699372394791979,
          -1.6763574817201774,
          -2.4872307788550363,
          -2.5683035779920167,
          -2.5616577691314117,
          -1.67167307842676,
          -1.50190359591736,
          -2.566431194982966,
          -2.6056620480490364,
          -2.5016560147521103,
          -2.5079677699979217,
          -1.5796422336888454,
          -2.660468101931733,
          -2.5858859649480173,
          -1.5493241885531093,
          -1.5558017944987927,
          -2.595071790619885,
          -2.611194218381164,
          -2.559982704790392,
          -1.5771760329876086,
          -1.5434392912460733,
          -2.5646502456887994,
          -1.587670477427784,
          -1.478166197846543,
          -2.487459242737883,
          -2.5509349690957754,
          -2.528670182692901,
          -2.5084664793485136,
          -2.524874629355372,
          -1.6318156054071733,
          -2.512126941854406,
          -2.587224781808781,
          -1.6429512902660135,
          -2.562390991584375,
          -2.5866281551195534,
          -2.5585499209750813,
          -1.515494922254328,
          -2.678715812797647,
          -2.4976356695595725,
          -1.645590505462543,
          -2.504573743096362,
          -2.490234537324384,
          -2.5557543940279723,
          -1.5247942911959351,
          -2.644837632616466,
          -2.485058014465304,
          -2.573391452654027,
          -2.5353008211876333,
          -2.5398172828331447,
          -2.50764543292488,
          -2.5596875291723142,
          -2.6133303527629783,
          -2.5376895343785963,
          -1.4990795442021436,
          -1.5481326201820518,
          -2.546846483353573,
          -2.5973467846009304,
          -2.472961613397905,
          -2.535958973816247,
          -2.6024690881138577,
          -1.5222160655006276,
          -1.6791935303407548,
          -2.513247455235104,
          -1.576060990334766,
          -2.540926362152639,
          -2.551766183319023,
          -2.540385106808584,
          -2.583590348673301,
          -1.5569925701252694,
          -2.4978964871830023,
          -2.649094396269095,
          -2.602748130465618,
          -1.487632734316974,
          -1.609210101604095,
          -2.680165740482162
         ],
         "z": [
          0.0536666700654448,
          -0.5497835145803033,
          -0.5360416875182137,
          -1.2756837267700727,
          0.957267213885582,
          0.1831242022531219,
          -0.7716046598244539,
          -0.7850394252098278,
          0.5241951472111931,
          0.4042326880562177,
          -0.120491671156719,
          -0.3230317715319835,
          -0.5412702077031041,
          0.0146564622779475,
          0.966023460948518,
          0.7380631433545685,
          -0.2403116570195751,
          -0.1211786235527681,
          -0.7053606008492156,
          0.247428931375801,
          0.6608296193875934,
          1.034133377573756,
          0.3888780629077764,
          -0.3446399565660479,
          0.8496875395628263,
          0.4344429688353045,
          -0.6431355901718383,
          0.4804577436932561,
          -0.3023496129864341,
          -0.4635172875699151,
          -0.919990545336312,
          -0.663167184819107,
          0.4573192555803759,
          -0.7494984654458017,
          0.2074913243662048,
          0.248589983417657,
          0.2377185010430568,
          0.3426864841342057,
          -0.6014880854532672,
          0.0563278348775641,
          -0.721523126584652,
          -0.5666168467882221,
          -0.8716761763764175,
          -0.7133521481067704,
          0.702222984464088,
          -0.0272686522926788,
          0.3036337527821173,
          -0.536369254664564,
          -0.2628018271425457,
          0.3545368265123761,
          -0.2334521226358205,
          0.5262207830452903,
          -0.7971849149412896,
          -0.372239118506634,
          0.6126845892007635,
          0.6493859305638506,
          1.0590272635641922,
          -0.2802838055091009,
          -0.0846882554010888,
          0.8324969147620804,
          0.479144022161781,
          -0.7965309782296093,
          0.0497723811809842,
          -0.0860861734642174,
          0.1516713155379208,
          -0.2697304888761404,
          -0.398913017141469,
          -0.2495917544148854,
          0.0311518426511147,
          -0.1472295889601156,
          0.6065579560159526,
          0.3148958963946563,
          0.4143852994100458,
          0.5224073944719557,
          0.2136120819086829,
          0.5235571900368375,
          0.4122361334631982,
          -0.3965131801220996,
          0.5772783759277669,
          0.6105439944831602,
          1.0592988443113716,
          -0.1640202202166749,
          1.0124657659762435,
          0.0751733410459982,
          -0.9010808206790394,
          -0.4568285612505081,
          -0.976581524029409,
          -0.0282019347053917,
          -0.5191202159836663,
          0.1185375120580738,
          0.8378832418896405,
          -0.2834484495149563,
          1.164003470439129,
          -0.276732171759102,
          -0.8630627160915757,
          0.1942290666621362,
          0.0978231645433843,
          -0.9531509695724714,
          0.585166520425157,
          -0.0738837628998991,
          -0.293277434533174,
          0.0118651232596106,
          -0.2074918768004978,
          -0.5889919728874269,
          -0.634437186852868,
          0.2645056902999014,
          0.2452803750564083,
          -0.8092433461482544,
          0.5632971275255475,
          0.4564883317624468,
          -0.4239836080561883,
          0.1871534452257598,
          -0.221565001575548,
          -0.1322731849900728,
          -0.4482944939054865,
          0.2816493908832137,
          -0.3079481944494456,
          -0.2584528715065314,
          -0.4171312387886313,
          0.2006394700992458,
          -0.404543681786203,
          0.4767036940232527,
          -0.3097825428863676,
          -0.4994038709667864,
          -1.1475064830707793,
          -0.2491035130769862,
          0.2818881766117405,
          0.0813566283134892,
          0.0106133707851631,
          -0.0577308683378151,
          -0.71864842191035,
          1.092638687232715,
          0.4418894148990714,
          -0.2410243352696885,
          0.3460156075605062,
          -0.089439591277176,
          0.4242094816217165,
          0.2904617019284759,
          0.8750873917808737,
          -0.8042231346246768,
          -0.6840810886987634,
          1.0172960589632332,
          0.4310223358371429,
          0.8375939974540464,
          0.2829859583757231,
          0.1050657721579801,
          0.3933687586567352,
          -0.0290618773254206,
          0.4176154401618009,
          1.0010589995568793,
          -0.0767353595474442,
          0.2727444600335365,
          -0.3683703450675916,
          0.2643618469898849,
          0.7651043839185508,
          -0.6985711672144177,
          0.053501410273028,
          0.0806264964009311,
          -0.5070556923228912,
          -0.9573623914291124,
          0.2851345845306327,
          -0.4324830902062688,
          -0.8582207440143592,
          -1.1794584359056963,
          -0.2237502494507788,
          0.8801211003104222,
          0.4664011898389754,
          -0.3085560749844014,
          -0.0802866464140401,
          0.5133277684539125,
          -0.7586001112012319,
          0.0080137505250532,
          -0.7565398100657821,
          0.3150216020429112,
          0.6627881491036386,
          0.3615753956668646,
          -0.669936516258986,
          0.0486640533044134,
          0.9378661903721868,
          1.138650298117728,
          -0.1437642789154286,
          0.0169057087161315,
          0.0128635538537739,
          -0.2006193048589141,
          0.4781887184919506,
          -0.5628897709871126,
          0.21948293712799,
          -0.0431402736690896,
          0.4215902754483255,
          -0.2686522020266119,
          -0.682355796192435,
          0.7141836049321086,
          0.9834622893778864,
          1.0677034995085035,
          0.9145956650524992,
          -0.5978111091246456,
          -0.429364922314857,
          1.0186644660987838,
          -0.750709873721646,
          -0.0464570333562709,
          0.4465073969240172,
          0.5501611070950707,
          1.429336994242697,
          0.7317939332510537,
          0.6848516224340095,
          0.1605433633396969,
          -0.5967922846927389,
          0.3397887271740596,
          0.1859493148025519,
          -0.1781273141348403,
          -0.416969629649024,
          0.3942275381941162,
          -0.8995771062750518,
          -0.6264783024199755,
          0.2272838239557098,
          -0.7099702471392174,
          0.3942493754121908,
          0.454866523928526,
          -0.5730036224692979,
          -0.5214727929769413,
          0.5452095251217415,
          0.3087532292227918,
          -0.7444007309368655,
          -0.3238881078465879,
          -0.1304521374592228,
          0.1488130729511319,
          0.6023974601586688,
          -0.0384255293788683,
          -0.5433910668199441,
          0.8809574771133368,
          -0.7271078140865612,
          -0.129579700136523,
          -0.6405870026775496,
          -0.865672502037235,
          0.0446739476935866,
          0.707049995406555,
          0.1869024132067565,
          0.4308285553370515,
          0.59131054428195,
          1.399021532352922,
          0.4451237483765214,
          0.3016342140210928,
          -0.2033859177314468,
          1.1431283818968083,
          0.7199320082083567,
          1.3747034367954514,
          -0.5083912271118647,
          -0.0168065150756997,
          -0.5524687078894747,
          -0.2896566701194753,
          -0.4782334479518531,
          0.1395283483543673,
          0.7578584467347523,
          -0.2402515081404956,
          -0.718680989258504,
          -0.1778241882375028,
          0.6752544343110667,
          -0.08801689588646,
          0.601785981183643,
          -0.1396667158959053,
          0.2260412936892342,
          0.6913672601251799,
          -0.1408822597479527,
          -0.6380734550576803,
          -0.6392886527756751,
          -0.3699084290540267,
          0.5255658676653462,
          -0.6760921242766599,
          -0.6836878538862635,
          -0.4410731526460227,
          -0.3988499931934771,
          -0.6595876213309022,
          0.5095313352831989,
          0.8053483152519021,
          0.3250175956780332,
          0.5251700607675938,
          0.3423969403249925,
          0.2736568021555552,
          -0.0428483306200673,
          -0.7504310240844876,
          -0.7519450508951995,
          0.2360625241769458,
          -0.6868247004439347,
          -0.3942118310935988,
          0.3632952971823869,
          -0.7426800174439405,
          -0.087722299977518,
          -0.5761643595917407,
          0.8142156795779051,
          -0.6354677824053159,
          0.5962629460093708,
          -0.6341987605089966,
          -0.5230650277403632,
          0.1674032761985753,
          -0.2652668676813436,
          -0.4205239785275468,
          -0.9794837132008608,
          -0.6284351760824689,
          0.1400444037989254,
          -0.035294958442338,
          0.179175298982214,
          -0.7899740646248191,
          -1.131821163012559,
          -0.3218768687205032,
          -0.3401710153574519,
          -0.0578710144621787,
          -0.9620682997717692,
          0.4913165416528887,
          0.1758516045478552,
          -0.2562698427972811,
          -0.2502425436038187,
          -0.1280441543584879,
          -0.1049233616014034,
          0.4854068355618829,
          0.1377342707265852,
          0.9559852647081744,
          -0.7654658168540082,
          -0.1982464292512094,
          0.2912290190114974
         ]
        },
        {
         "marker": {
          "color": "#1ac938",
          "opacity": 0.4,
          "size": 5
         },
         "mode": "markers",
         "name": "Cluster 1",
         "type": "scatter3d",
         "x": [
          -2.034387143260333,
          -2.3204365699231366,
          -2.5062498215029065,
          -1.519527293635485,
          -2.1312849301452195,
          -1.692314090736983,
          -1.9371668499947523,
          -2.275247712126118,
          -0.9130099920434896,
          -2.464440581134459,
          -1.9204610208709465,
          0.0137312142220173,
          -1.435363370448432,
          -2.5116411016789084,
          -1.655504020181486,
          -1.838789439354779,
          -1.7865967569239587,
          -0.9646171087162732,
          -0.9735788049092028,
          -1.578450414874914,
          -0.9648220815471912,
          -1.242175692779984,
          -1.6685459192786425,
          -2.299067272759969,
          -1.189838496695393,
          -0.1964762152548061,
          -2.1212512344348164,
          -1.7767217167204208,
          -1.8204598380177173,
          -2.295963450721819,
          -1.6473855908243826,
          -1.540331262527571,
          -1.0496625409191602,
          -1.8412727430730185,
          -1.1078287340663024,
          -2.4010105049063357,
          -1.576168850399602,
          -1.2087204471501165,
          -1.831806874146319,
          -2.249287067684065,
          -0.2458709260003547,
          -2.0068865220667327,
          -0.4902252590684361,
          -1.054464961874625,
          -2.213502293311228,
          -0.0451886919297962,
          -1.2701816397400607,
          -1.471478230134028,
          -1.7242958555482788,
          -1.194841704807272,
          -1.805349672922848,
          -1.1849761245943533,
          -1.7227933005005025,
          -1.6549854700316908,
          -2.304317826555232,
          0.2241771143096113,
          -2.4914251351646777,
          -2.411576847449936,
          -2.084368871903567,
          -0.984629172704513,
          -0.2637652687411658,
          -1.829774111837797,
          -1.784627626929221,
          -1.5574342407648842,
          -1.8444427960341472,
          -2.1811291851242998,
          -2.2107295813782435,
          -2.1263123628032803,
          -1.3814990006842438,
          -1.5858189918368328,
          -2.3875763994228425,
          0.3132923261028477,
          -1.2155434096246802,
          -0.8900958939756225,
          -1.5816935458590906,
          -2.014920073476848,
          -1.695015552024429,
          -1.3684407356879045,
          -0.5344762650601328,
          -0.8854026763567874,
          -2.1832881851820685,
          -2.5896983275976613,
          -1.980557494462724,
          -0.5424109935364559,
          -1.5309720356046486,
          -1.250796919872675,
          -1.8043019995406568,
          -0.8470495927849045,
          -1.8575911179725784,
          -1.2561794353011475,
          -2.4102035561758237,
          -0.9733078961456704,
          -2.331277332238653,
          -1.8055892662820712,
          -1.2080067220257134,
          -1.3232205959331214,
          -1.7882963804051497,
          -1.7533547927066704,
          -2.176501442456832,
          -2.022129531088616,
          -1.6957920749985886,
          -1.3671633939373558,
          -1.1107037529030954,
          -1.9413424361962652,
          -1.8528662148744717,
          -1.899318537031501,
          -1.6914032497930855,
          -1.937557671506035,
          -0.5292316360590524,
          -1.5194629563857198,
          -1.463713242571547,
          -1.1935350701537273,
          -0.9680558699134612,
          -1.948855949862089,
          -0.973590203055864,
          -1.740877272712347,
          -1.2194694250272236,
          -1.866575041674181,
          -1.5960758977160343,
          -1.1401301126818792,
          -1.7657035162150103,
          -1.2192751131895725,
          -0.784714800663041,
          0.4473010806032922,
          -0.5846458835759074,
          -1.167670328716101,
          -0.962118590168049,
          -1.6086286761690904,
          -1.4966563773405686,
          -1.3306796151647775,
          -2.5436259679214674,
          -1.5713074105883775,
          -0.960550223276178,
          -1.235935656073072,
          -1.585993995955958,
          -1.240217659559938,
          -0.2148446476075802,
          -1.8518241854575757,
          -1.336144848854231,
          -0.8161751189850353,
          -1.828211676564847,
          0.1046474850271126,
          -1.531832555371754,
          -1.0654136556536842,
          -2.216517211262871,
          -1.7823412035271555,
          -1.6299183587945918,
          -1.3374738424721462,
          -2.359967957803132,
          -1.0475734006806774,
          -0.2820490784550163,
          -1.1000335437355608,
          -2.310103983419595,
          -0.5308591675383635,
          -2.33708527168736,
          -1.3790448000493545,
          -1.2726889932567529,
          -1.4210551857108986,
          -0.1523391123693958,
          -1.7590020514574176,
          -1.399149979029056,
          -0.0525682703266754,
          -1.99024041889017,
          -1.2970084408198326,
          -2.1067786106728894,
          -2.124619450962295,
          -1.814654214252708,
          -0.5196630324995167,
          -1.9904931493291071,
          -1.4114776416994923,
          -1.849397940418388,
          -1.0750779490021265,
          -2.1393340688882763,
          -1.7590276217086305,
          -1.3248633394225502,
          -2.3301611344223128,
          -1.6624563130361014,
          -2.6883360650515065,
          -1.3670972845087277,
          -1.5762841120944655,
          -1.5070907337988868,
          -1.1400602353355491,
          -2.3111967437703576,
          -1.4388050297576804,
          -1.9948865679992744,
          -2.2366294396841
         ],
         "y": [
          3.434087641922728,
          3.4643778449914677,
          3.3645467005314664,
          3.3383305024566794,
          3.490787373157808,
          3.432156843297051,
          3.4092360956761425,
          3.3767700271687406,
          3.484708977915268,
          3.486511447332112,
          3.432715882623816,
          3.4687985921901285,
          3.4698679006804003,
          3.4236601427772806,
          3.431402326017201,
          3.469061286373509,
          3.335335340558905,
          3.518977035898031,
          3.3909893753239118,
          3.4020737966219534,
          3.489212994455843,
          3.373544763694859,
          3.4373625110198307,
          3.3616445752315025,
          3.447721727495457,
          3.509477958534981,
          3.386282766033427,
          3.4596570159925,
          3.4020213302982185,
          3.384789498488117,
          3.487602012762256,
          3.493606974555985,
          3.4415326482304933,
          3.359122169973577,
          3.449637324571615,
          3.444590369925512,
          3.4115611192443214,
          3.4011118517573093,
          3.4628530890593723,
          3.387516472204267,
          3.5015719144929625,
          3.498026842144212,
          3.4672984309433126,
          3.4271758465929136,
          3.394732734877293,
          3.497563011947069,
          3.480694234217388,
          3.412511620400115,
          3.42376604410466,
          3.436314926470934,
          3.3594455212888383,
          3.350608552776248,
          3.394803979407988,
          3.4473244285529674,
          3.45938927939009,
          3.4688147049691715,
          3.4051630891554976,
          3.4219731996572573,
          3.4491887847652563,
          3.432610607584839,
          3.452645906423696,
          3.3802887461287323,
          3.404616461853909,
          3.495090521888285,
          3.381077482212745,
          3.366811928876408,
          3.3679321833547027,
          3.4111099741494524,
          3.513515947370156,
          3.466418719051902,
          3.3640728599344136,
          3.47781822582983,
          3.3671320007911865,
          3.4927372482356525,
          3.4821759601019187,
          3.48821447228605,
          3.367913054399357,
          3.367766892406276,
          3.4945679310016686,
          3.556300617560294,
          3.395002070624947,
          3.3774104159841305,
          3.4657956423511096,
          3.4238062203354365,
          3.4049017836120945,
          3.4468985287231284,
          3.4508233930279397,
          3.5073188738474843,
          3.45474052416376,
          3.4450505507884426,
          3.4516740815260074,
          3.509831411212643,
          3.419859691413736,
          3.484980881518691,
          3.4863984027395327,
          3.423121440549269,
          3.391446026120651,
          3.3843894095506206,
          3.454677176055248,
          3.434943188577345,
          3.4123221825434817,
          3.390227064028288,
          3.5378902251296016,
          3.450704471269836,
          3.420978911575701,
          3.3246763830298627,
          3.475586472885997,
          3.449120948301131,
          3.4570932266171024,
          3.445001731502267,
          3.405437201627316,
          3.420297194341488,
          3.463283845997769,
          3.3639655859961044,
          3.458842350627477,
          3.3684392631223705,
          3.3388502609285498,
          3.478852395765643,
          3.4605648596092897,
          3.4354434792050608,
          3.371100534651716,
          3.3614664113690904,
          3.465601361298212,
          3.4879954633733505,
          3.4726801011716275,
          3.439678533292956,
          3.494156181125588,
          3.3362265510470253,
          3.484977481887175,
          3.377596065410444,
          3.414277003166724,
          3.483639800308812,
          3.46607196723248,
          3.421068722776978,
          3.518898252884402,
          3.341686971162794,
          3.5245501565223254,
          3.405971423367802,
          3.4241593470703178,
          3.529539666520668,
          3.3978501679716024,
          3.453886679450287,
          3.5393223879840447,
          3.498903574042243,
          3.4136833317141013,
          3.50817581785192,
          3.445924184511244,
          3.4802702172278988,
          3.3685576917678604,
          3.4023947741174667,
          3.493894385076947,
          3.4549620081097103,
          3.4613913698112198,
          3.4755604920329985,
          3.4367443314033546,
          3.4640513770891004,
          3.3822083246085195,
          3.3707219113212328,
          3.519910231027813,
          3.505035854759459,
          3.436291086209556,
          3.4907862327614687,
          3.416340688786476,
          3.4802151265849277,
          3.478902821293901,
          3.492364366534255,
          3.521397145246924,
          3.488630494025779,
          3.3761148098144576,
          3.4947817377856105,
          3.456108566665544,
          3.399992506075117,
          3.399414466783881,
          3.502008856809124,
          3.346285930906307,
          3.4079992485973625,
          3.409413917871193,
          3.450803439828312,
          3.4401453305918075,
          3.446753368518616,
          3.438320626612112,
          3.437680236070153,
          3.437443084608941,
          3.4701268459101544,
          3.426363974928589,
          3.345435541938911
         ],
         "z": [
          -0.347114894519887,
          -0.3282143400610774,
          0.3141932909059115,
          0.0315612871954262,
          -0.0107582483321194,
          -0.251457290455997,
          -0.0029391472035927,
          0.2568984272749657,
          -0.0708866686726314,
          0.1520632587026892,
          -0.302730461186523,
          -0.7846048790983438,
          0.1137917971244359,
          0.2327315342641635,
          -0.5055609772711042,
          -0.3963008626506679,
          0.7236487245763823,
          -0.5535241203743727,
          0.3764777675618785,
          -0.5056419558951734,
          -0.5746654369132379,
          0.7802925681221189,
          0.5175601707646759,
          0.073107413950112,
          -0.0523817586157331,
          -0.7473570051952592,
          0.1472569857120285,
          0.2054119159690547,
          0.6675250215420475,
          0.3460273135322376,
          -0.5844625089061335,
          -0.2420419921019852,
          -0.4175062842616523,
          0.2233041220842842,
          0.8133136789123795,
          -0.3224903066087321,
          0.896213574053261,
          0.0608904388747791,
          0.0623252650332029,
          0.1564260179156036,
          -0.9654180111342242,
          -0.988038213360804,
          -0.8241962132029418,
          0.1009261259800679,
          -0.2987899960298742,
          -1.047668663474734,
          -0.4491898512506207,
          0.2611035140678636,
          -0.2181151238835836,
          0.0181684836399372,
          -0.5069115481876023,
          1.1082321605008414,
          -0.1812193550263886,
          -0.3540322506673974,
          0.2391549579017426,
          -0.7727678657355936,
          0.3625172776347845,
          0.3065981649495462,
          0.4754053529008208,
          0.2108639626756787,
          -0.5061884724720296,
          -0.3794389228751793,
          0.5649357167990893,
          -0.6829328754340526,
          -0.4355221998737212,
          -0.0072798161117627,
          0.4395331214606313,
          -0.0040168390437991,
          -0.0981788996473896,
          0.0410169354093334,
          0.2313687194090367,
          -1.1149427118256,
          0.2442860688310045,
          0.2963130720214139,
          -0.7849838357143126,
          0.0684162974378365,
          -0.3602747088052204,
          0.382042100080643,
          -1.2312287542312546,
          -0.606071635184717,
          0.4261842371345706,
          0.1111210415681468,
          0.2588377657975615,
          -0.5033503795384564,
          -0.0960431580047899,
          0.6046816080103454,
          0.8331662704826219,
          -0.6378232878859557,
          -0.0123405338798724,
          -0.6451972667162414,
          0.117717644542586,
          -0.5240500664580339,
          0.6475833859237312,
          -0.552786715874413,
          -0.5816896124887001,
          -0.3810803780617056,
          -0.7815301669041356,
          0.1863261899960933,
          0.1182761023422429,
          -0.6443848924109832,
          -0.259286580103261,
          0.4356332697740567,
          -0.7709423145508445,
          -0.0694877286884497,
          0.0052127905569279,
          0.3337982786151457,
          -0.0231843426694914,
          0.4126049702834108,
          -0.5123398848392414,
          -0.281474365002605,
          0.0813318440188126,
          -0.2623015393375491,
          0.0605400088948186,
          0.025245247328119,
          0.8068634093284985,
          1.165979026284814,
          0.5640439323473257,
          0.2350792030417312,
          0.1051439218079167,
          -0.142622087235505,
          -0.1343405920719151,
          1.0521873318271515,
          0.0082776740464882,
          -0.7287409270842745,
          -0.8535389553395937,
          0.0616865651203139,
          -0.5921433770927718,
          0.1961433645953743,
          -0.0822434960047451,
          0.2166365801973694,
          0.4584352990066506,
          -0.5010319556078707,
          -0.0106376256913884,
          -0.0298173002332226,
          -0.3048751144701973,
          0.7447275568691051,
          -0.967713941290048,
          -0.4579211683319318,
          0.6538006833809681,
          -0.3966058363057936,
          -0.2244616211065838,
          -0.7452615565338153,
          -0.2699995303667107,
          -0.555187684289049,
          -0.0655432253422411,
          -0.4371148364042613,
          0.5209087238551781,
          0.1348479987411131,
          0.5055440101154383,
          0.7079025575539842,
          -1.029286366763002,
          -0.6003459323000907,
          -0.3006282647044109,
          -0.7373653340275658,
          0.7144617488265871,
          -0.4296820792056224,
          0.4465715438762361,
          0.0398565182294597,
          -0.8624891019366578,
          -0.3552408222902509,
          -0.2682542645714839,
          -1.1038459922639343,
          0.324356979520467,
          -0.5161570235382483,
          -0.5619810337481578,
          -0.8131493716034706,
          -0.4598437750947852,
          -0.56957268418789,
          0.257746857510458,
          -0.3547102813490346,
          0.0229631552341681,
          -0.2360984788997735,
          -0.1939376887650974,
          -0.0625780169094404,
          0.4029494876502077,
          0.5276651392890871,
          -0.1907622132603026,
          0.0794043378547074,
          0.7025003621273664,
          -0.1484062399248044,
          -0.5611177869338402,
          -0.6725354777094886,
          0.0539954247447549,
          0.6247581092925214,
          -0.3346317286665387,
          -0.2133443855222709
         ]
        },
        {
         "marker": {
          "color": "#023eff",
          "opacity": 0.4,
          "size": 5
         },
         "mode": "markers",
         "name": "Cluster 2",
         "type": "scatter3d",
         "x": [],
         "y": [],
         "z": []
        }
       ],
       "layout": {
        "height": 800,
        "scene": {
         "xaxis": {
          "backgroundcolor": "#fcf0dc",
          "gridcolor": "white",
          "title": {
           "text": "PC1"
          }
         },
         "yaxis": {
          "backgroundcolor": "#fcf0dc",
          "gridcolor": "white",
          "title": {
           "text": "PC2"
          }
         },
         "zaxis": {
          "backgroundcolor": "#fcf0dc",
          "gridcolor": "white",
          "title": {
           "text": "PC3"
          }
         }
        },
        "template": {
         "data": {
          "bar": [
           {
            "error_x": {
             "color": "#2a3f5f"
            },
            "error_y": {
             "color": "#2a3f5f"
            },
            "marker": {
             "line": {
              "color": "#E5ECF6",
              "width": 0.5
             },
             "pattern": {
              "fillmode": "overlay",
              "size": 10,
              "solidity": 0.2
             }
            },
            "type": "bar"
           }
          ],
          "barpolar": [
           {
            "marker": {
             "line": {
              "color": "#E5ECF6",
              "width": 0.5
             },
             "pattern": {
              "fillmode": "overlay",
              "size": 10,
              "solidity": 0.2
             }
            },
            "type": "barpolar"
           }
          ],
          "carpet": [
           {
            "aaxis": {
             "endlinecolor": "#2a3f5f",
             "gridcolor": "white",
             "linecolor": "white",
             "minorgridcolor": "white",
             "startlinecolor": "#2a3f5f"
            },
            "baxis": {
             "endlinecolor": "#2a3f5f",
             "gridcolor": "white",
             "linecolor": "white",
             "minorgridcolor": "white",
             "startlinecolor": "#2a3f5f"
            },
            "type": "carpet"
           }
          ],
          "choropleth": [
           {
            "colorbar": {
             "outlinewidth": 0,
             "ticks": ""
            },
            "type": "choropleth"
           }
          ],
          "contour": [
           {
            "colorbar": {
             "outlinewidth": 0,
             "ticks": ""
            },
            "colorscale": [
             [
              0,
              "#0d0887"
             ],
             [
              0.1111111111111111,
              "#46039f"
             ],
             [
              0.2222222222222222,
              "#7201a8"
             ],
             [
              0.3333333333333333,
              "#9c179e"
             ],
             [
              0.4444444444444444,
              "#bd3786"
             ],
             [
              0.5555555555555556,
              "#d8576b"
             ],
             [
              0.6666666666666666,
              "#ed7953"
             ],
             [
              0.7777777777777778,
              "#fb9f3a"
             ],
             [
              0.8888888888888888,
              "#fdca26"
             ],
             [
              1,
              "#f0f921"
             ]
            ],
            "type": "contour"
           }
          ],
          "contourcarpet": [
           {
            "colorbar": {
             "outlinewidth": 0,
             "ticks": ""
            },
            "type": "contourcarpet"
           }
          ],
          "heatmap": [
           {
            "colorbar": {
             "outlinewidth": 0,
             "ticks": ""
            },
            "colorscale": [
             [
              0,
              "#0d0887"
             ],
             [
              0.1111111111111111,
              "#46039f"
             ],
             [
              0.2222222222222222,
              "#7201a8"
             ],
             [
              0.3333333333333333,
              "#9c179e"
             ],
             [
              0.4444444444444444,
              "#bd3786"
             ],
             [
              0.5555555555555556,
              "#d8576b"
             ],
             [
              0.6666666666666666,
              "#ed7953"
             ],
             [
              0.7777777777777778,
              "#fb9f3a"
             ],
             [
              0.8888888888888888,
              "#fdca26"
             ],
             [
              1,
              "#f0f921"
             ]
            ],
            "type": "heatmap"
           }
          ],
          "heatmapgl": [
           {
            "colorbar": {
             "outlinewidth": 0,
             "ticks": ""
            },
            "colorscale": [
             [
              0,
              "#0d0887"
             ],
             [
              0.1111111111111111,
              "#46039f"
             ],
             [
              0.2222222222222222,
              "#7201a8"
             ],
             [
              0.3333333333333333,
              "#9c179e"
             ],
             [
              0.4444444444444444,
              "#bd3786"
             ],
             [
              0.5555555555555556,
              "#d8576b"
             ],
             [
              0.6666666666666666,
              "#ed7953"
             ],
             [
              0.7777777777777778,
              "#fb9f3a"
             ],
             [
              0.8888888888888888,
              "#fdca26"
             ],
             [
              1,
              "#f0f921"
             ]
            ],
            "type": "heatmapgl"
           }
          ],
          "histogram": [
           {
            "marker": {
             "pattern": {
              "fillmode": "overlay",
              "size": 10,
              "solidity": 0.2
             }
            },
            "type": "histogram"
           }
          ],
          "histogram2d": [
           {
            "colorbar": {
             "outlinewidth": 0,
             "ticks": ""
            },
            "colorscale": [
             [
              0,
              "#0d0887"
             ],
             [
              0.1111111111111111,
              "#46039f"
             ],
             [
              0.2222222222222222,
              "#7201a8"
             ],
             [
              0.3333333333333333,
              "#9c179e"
             ],
             [
              0.4444444444444444,
              "#bd3786"
             ],
             [
              0.5555555555555556,
              "#d8576b"
             ],
             [
              0.6666666666666666,
              "#ed7953"
             ],
             [
              0.7777777777777778,
              "#fb9f3a"
             ],
             [
              0.8888888888888888,
              "#fdca26"
             ],
             [
              1,
              "#f0f921"
             ]
            ],
            "type": "histogram2d"
           }
          ],
          "histogram2dcontour": [
           {
            "colorbar": {
             "outlinewidth": 0,
             "ticks": ""
            },
            "colorscale": [
             [
              0,
              "#0d0887"
             ],
             [
              0.1111111111111111,
              "#46039f"
             ],
             [
              0.2222222222222222,
              "#7201a8"
             ],
             [
              0.3333333333333333,
              "#9c179e"
             ],
             [
              0.4444444444444444,
              "#bd3786"
             ],
             [
              0.5555555555555556,
              "#d8576b"
             ],
             [
              0.6666666666666666,
              "#ed7953"
             ],
             [
              0.7777777777777778,
              "#fb9f3a"
             ],
             [
              0.8888888888888888,
              "#fdca26"
             ],
             [
              1,
              "#f0f921"
             ]
            ],
            "type": "histogram2dcontour"
           }
          ],
          "mesh3d": [
           {
            "colorbar": {
             "outlinewidth": 0,
             "ticks": ""
            },
            "type": "mesh3d"
           }
          ],
          "parcoords": [
           {
            "line": {
             "colorbar": {
              "outlinewidth": 0,
              "ticks": ""
             }
            },
            "type": "parcoords"
           }
          ],
          "pie": [
           {
            "automargin": true,
            "type": "pie"
           }
          ],
          "scatter": [
           {
            "fillpattern": {
             "fillmode": "overlay",
             "size": 10,
             "solidity": 0.2
            },
            "type": "scatter"
           }
          ],
          "scatter3d": [
           {
            "line": {
             "colorbar": {
              "outlinewidth": 0,
              "ticks": ""
             }
            },
            "marker": {
             "colorbar": {
              "outlinewidth": 0,
              "ticks": ""
             }
            },
            "type": "scatter3d"
           }
          ],
          "scattercarpet": [
           {
            "marker": {
             "colorbar": {
              "outlinewidth": 0,
              "ticks": ""
             }
            },
            "type": "scattercarpet"
           }
          ],
          "scattergeo": [
           {
            "marker": {
             "colorbar": {
              "outlinewidth": 0,
              "ticks": ""
             }
            },
            "type": "scattergeo"
           }
          ],
          "scattergl": [
           {
            "marker": {
             "colorbar": {
              "outlinewidth": 0,
              "ticks": ""
             }
            },
            "type": "scattergl"
           }
          ],
          "scattermapbox": [
           {
            "marker": {
             "colorbar": {
              "outlinewidth": 0,
              "ticks": ""
             }
            },
            "type": "scattermapbox"
           }
          ],
          "scatterpolar": [
           {
            "marker": {
             "colorbar": {
              "outlinewidth": 0,
              "ticks": ""
             }
            },
            "type": "scatterpolar"
           }
          ],
          "scatterpolargl": [
           {
            "marker": {
             "colorbar": {
              "outlinewidth": 0,
              "ticks": ""
             }
            },
            "type": "scatterpolargl"
           }
          ],
          "scatterternary": [
           {
            "marker": {
             "colorbar": {
              "outlinewidth": 0,
              "ticks": ""
             }
            },
            "type": "scatterternary"
           }
          ],
          "surface": [
           {
            "colorbar": {
             "outlinewidth": 0,
             "ticks": ""
            },
            "colorscale": [
             [
              0,
              "#0d0887"
             ],
             [
              0.1111111111111111,
              "#46039f"
             ],
             [
              0.2222222222222222,
              "#7201a8"
             ],
             [
              0.3333333333333333,
              "#9c179e"
             ],
             [
              0.4444444444444444,
              "#bd3786"
             ],
             [
              0.5555555555555556,
              "#d8576b"
             ],
             [
              0.6666666666666666,
              "#ed7953"
             ],
             [
              0.7777777777777778,
              "#fb9f3a"
             ],
             [
              0.8888888888888888,
              "#fdca26"
             ],
             [
              1,
              "#f0f921"
             ]
            ],
            "type": "surface"
           }
          ],
          "table": [
           {
            "cells": {
             "fill": {
              "color": "#EBF0F8"
             },
             "line": {
              "color": "white"
             }
            },
            "header": {
             "fill": {
              "color": "#C8D4E3"
             },
             "line": {
              "color": "white"
             }
            },
            "type": "table"
           }
          ]
         },
         "layout": {
          "annotationdefaults": {
           "arrowcolor": "#2a3f5f",
           "arrowhead": 0,
           "arrowwidth": 1
          },
          "autotypenumbers": "strict",
          "coloraxis": {
           "colorbar": {
            "outlinewidth": 0,
            "ticks": ""
           }
          },
          "colorscale": {
           "diverging": [
            [
             0,
             "#8e0152"
            ],
            [
             0.1,
             "#c51b7d"
            ],
            [
             0.2,
             "#de77ae"
            ],
            [
             0.3,
             "#f1b6da"
            ],
            [
             0.4,
             "#fde0ef"
            ],
            [
             0.5,
             "#f7f7f7"
            ],
            [
             0.6,
             "#e6f5d0"
            ],
            [
             0.7,
             "#b8e186"
            ],
            [
             0.8,
             "#7fbc41"
            ],
            [
             0.9,
             "#4d9221"
            ],
            [
             1,
             "#276419"
            ]
           ],
           "sequential": [
            [
             0,
             "#0d0887"
            ],
            [
             0.1111111111111111,
             "#46039f"
            ],
            [
             0.2222222222222222,
             "#7201a8"
            ],
            [
             0.3333333333333333,
             "#9c179e"
            ],
            [
             0.4444444444444444,
             "#bd3786"
            ],
            [
             0.5555555555555556,
             "#d8576b"
            ],
            [
             0.6666666666666666,
             "#ed7953"
            ],
            [
             0.7777777777777778,
             "#fb9f3a"
            ],
            [
             0.8888888888888888,
             "#fdca26"
            ],
            [
             1,
             "#f0f921"
            ]
           ],
           "sequentialminus": [
            [
             0,
             "#0d0887"
            ],
            [
             0.1111111111111111,
             "#46039f"
            ],
            [
             0.2222222222222222,
             "#7201a8"
            ],
            [
             0.3333333333333333,
             "#9c179e"
            ],
            [
             0.4444444444444444,
             "#bd3786"
            ],
            [
             0.5555555555555556,
             "#d8576b"
            ],
            [
             0.6666666666666666,
             "#ed7953"
            ],
            [
             0.7777777777777778,
             "#fb9f3a"
            ],
            [
             0.8888888888888888,
             "#fdca26"
            ],
            [
             1,
             "#f0f921"
            ]
           ]
          },
          "colorway": [
           "#636efa",
           "#EF553B",
           "#00cc96",
           "#ab63fa",
           "#FFA15A",
           "#19d3f3",
           "#FF6692",
           "#B6E880",
           "#FF97FF",
           "#FECB52"
          ],
          "font": {
           "color": "#2a3f5f"
          },
          "geo": {
           "bgcolor": "white",
           "lakecolor": "white",
           "landcolor": "#E5ECF6",
           "showlakes": true,
           "showland": true,
           "subunitcolor": "white"
          },
          "hoverlabel": {
           "align": "left"
          },
          "hovermode": "closest",
          "mapbox": {
           "style": "light"
          },
          "paper_bgcolor": "white",
          "plot_bgcolor": "#E5ECF6",
          "polar": {
           "angularaxis": {
            "gridcolor": "white",
            "linecolor": "white",
            "ticks": ""
           },
           "bgcolor": "#E5ECF6",
           "radialaxis": {
            "gridcolor": "white",
            "linecolor": "white",
            "ticks": ""
           }
          },
          "scene": {
           "xaxis": {
            "backgroundcolor": "#E5ECF6",
            "gridcolor": "white",
            "gridwidth": 2,
            "linecolor": "white",
            "showbackground": true,
            "ticks": "",
            "zerolinecolor": "white"
           },
           "yaxis": {
            "backgroundcolor": "#E5ECF6",
            "gridcolor": "white",
            "gridwidth": 2,
            "linecolor": "white",
            "showbackground": true,
            "ticks": "",
            "zerolinecolor": "white"
           },
           "zaxis": {
            "backgroundcolor": "#E5ECF6",
            "gridcolor": "white",
            "gridwidth": 2,
            "linecolor": "white",
            "showbackground": true,
            "ticks": "",
            "zerolinecolor": "white"
           }
          },
          "shapedefaults": {
           "line": {
            "color": "#2a3f5f"
           }
          },
          "ternary": {
           "aaxis": {
            "gridcolor": "white",
            "linecolor": "white",
            "ticks": ""
           },
           "baxis": {
            "gridcolor": "white",
            "linecolor": "white",
            "ticks": ""
           },
           "bgcolor": "#E5ECF6",
           "caxis": {
            "gridcolor": "white",
            "linecolor": "white",
            "ticks": ""
           }
          },
          "title": {
           "x": 0.05
          },
          "xaxis": {
           "automargin": true,
           "gridcolor": "white",
           "linecolor": "white",
           "ticks": "",
           "title": {
            "standoff": 15
           },
           "zerolinecolor": "white",
           "zerolinewidth": 2
          },
          "yaxis": {
           "automargin": true,
           "gridcolor": "white",
           "linecolor": "white",
           "ticks": "",
           "title": {
            "standoff": 15
           },
           "zerolinecolor": "white",
           "zerolinewidth": 2
          }
         }
        },
        "title": {
         "text": "3D Visualization of Customer Clusters in PCA Space",
         "x": 0.5
        },
        "width": 900
       }
      }
     },
     "metadata": {},
     "output_type": "display_data"
    }
   ],
   "source": [
    "colors = ['#e8000b', '#1ac938', '#023eff',\n",
    "        #    '#555555', '#00fff0'\n",
    "           ]\n",
    "\n",
    "# Create separate data frames for each cluster\n",
    "cluster_0 = df[df['cluster'] == 0]\n",
    "cluster_1 = df[df['cluster'] == 1]\n",
    "cluster_2 = df[df['cluster'] == 2]\n",
    "# cluster_3 = df[df['cluster'] == 3]\n",
    "# cluster_4 = df[df['cluster'] == 4]\n",
    "\n",
    "# Create a 3D scatter plot\n",
    "fig = go.Figure()\n",
    "\n",
    "# Add data points for each cluster separately and specify the color\n",
    "fig.add_trace(go.Scatter3d(x=cluster_0['PC1'], y=cluster_0['PC2'], z=cluster_0['PC3'], \n",
    "                           mode='markers', marker=dict(color=colors[0], size=5, opacity=0.4), name='Cluster 0'))\n",
    "fig.add_trace(go.Scatter3d(x=cluster_1['PC1'], y=cluster_1['PC2'], z=cluster_1['PC3'], \n",
    "                           mode='markers', marker=dict(color=colors[1], size=5, opacity=0.4), name='Cluster 1'))\n",
    "fig.add_trace(go.Scatter3d(x=cluster_2['PC1'], y=cluster_2['PC2'], z=cluster_2['PC3'], \n",
    "                           mode='markers', marker=dict(color=colors[2], size=5, opacity=0.4), name='Cluster 2'))\n",
    "# fig.add_trace(go.Scatter3d(x=cluster_3['PC1'], y=cluster_3['PC2'], z=cluster_3['PC3'], \n",
    "#                            mode='markers', marker=dict(color=colors[3], size=5, opacity=0.4), name='Cluster 3'))\n",
    "# fig.add_trace(go.Scatter3d(x=cluster_4['PC1'], y=cluster_4['PC2'], z=cluster_4['PC3'], \n",
    "#                            mode='markers', marker=dict(color=colors[4], size=5, opacity=0.4), name='Cluster 4'))\n",
    "\n",
    "# Set the title and layout details\n",
    "fig.update_layout(\n",
    "    title=dict(text='3D Visualization of Customer Clusters in PCA Space', x=0.5),\n",
    "    scene=dict(\n",
    "        xaxis=dict(backgroundcolor=\"#fcf0dc\", gridcolor='white', title='PC1'),\n",
    "        yaxis=dict(backgroundcolor=\"#fcf0dc\", gridcolor='white', title='PC2'),\n",
    "        zaxis=dict(backgroundcolor=\"#fcf0dc\", gridcolor='white', title='PC3'),\n",
    "    ),\n",
    "    width=900,\n",
    "    height=800\n",
    ")\n",
    "\n",
    "# Show the plot\n",
    "fig.show()"
   ]
  }
 ],
 "metadata": {
  "kernelspec": {
   "display_name": "practice",
   "language": "python",
   "name": "python3"
  },
  "language_info": {
   "codemirror_mode": {
    "name": "ipython",
    "version": 3
   },
   "file_extension": ".py",
   "mimetype": "text/x-python",
   "name": "python",
   "nbconvert_exporter": "python",
   "pygments_lexer": "ipython3",
   "version": "3.11.4"
  }
 },
 "nbformat": 4,
 "nbformat_minor": 2
}
